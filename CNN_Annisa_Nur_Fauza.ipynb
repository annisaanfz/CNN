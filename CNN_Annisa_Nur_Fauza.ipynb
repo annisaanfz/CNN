{
  "nbformat": 4,
  "nbformat_minor": 0,
  "metadata": {
    "colab": {
      "name": "CNN - Annisa Nur Fauza.ipynb",
      "provenance": [],
      "collapsed_sections": [],
      "include_colab_link": true
    },
    "kernelspec": {
      "name": "python3",
      "display_name": "Python 3"
    }
  },
  "cells": [
    {
      "cell_type": "markdown",
      "metadata": {
        "id": "view-in-github",
        "colab_type": "text"
      },
      "source": [
        "<a href=\"https://colab.research.google.com/github/annisaanfz/CNN/blob/master/CNN_Annisa_Nur_Fauza.ipynb\" target=\"_parent\"><img src=\"https://colab.research.google.com/assets/colab-badge.svg\" alt=\"Open In Colab\"/></a>"
      ]
    },
    {
      "cell_type": "code",
      "metadata": {
        "id": "eLLBeuppCKhK",
        "colab_type": "code",
        "colab": {}
      },
      "source": [
        "\"\"\"\n",
        "Sinkronisasi Colabs dengan Google Drive\n",
        "\"\"\"\n",
        "\n",
        "!pip install -U -q PyDrive\n",
        "import os\n",
        "from pydrive.auth import GoogleAuth\n",
        "from pydrive.drive import GoogleDrive\n",
        "from google.colab import auth\n",
        "from oauth2client.client import GoogleCredentials\n",
        "\n",
        "# 1. Authenticate and create the PyDrive client.\n",
        "auth.authenticate_user()\n",
        "gauth = GoogleAuth()\n",
        "gauth.credentials = GoogleCredentials.get_application_default()\n",
        "drive = GoogleDrive(gauth)"
      ],
      "execution_count": 0,
      "outputs": []
    },
    {
      "cell_type": "code",
      "metadata": {
        "id": "ybIORNPJCrgd",
        "colab_type": "code",
        "outputId": "35827a73-dffe-42f6-a862-a395df890fcb",
        "colab": {
          "base_uri": "https://localhost:8080/",
          "height": 1000
        }
      },
      "source": [
        "import pandas as pd\n",
        "file_list = drive.ListFile(\n",
        "    {'q': \"'1A6IuQnGbMBQ3pZRZOFzn8hdsWq1uack1' in parents\"}).GetList()\n",
        "\n",
        "# Create Dictionary List\n",
        "\n",
        "for f in file_list:\n",
        "  # 3. Create & download by id.\n",
        "  print('title: %s, id: %s' % (f['title'], f['id']))\n",
        "#   downloaded = drive.CreateFile({'id':f['id']}) \n",
        "#   downloaded.GetContentFile(f['title'])  \n",
        "#   df3 = pd.read_csv(f['title'], header=None)"
      ],
      "execution_count": 0,
      "outputs": [
        {
          "output_type": "stream",
          "text": [
            "title: Beats 234.csv, id: 1kZ7zkAc_0v2kJ1yGGcZsgSkVU1Wngyzj\n",
            "title: Beats 233.csv, id: 1M-s8fx81CkfgrasD57T89qvi2fYsB8mI\n",
            "title: Beats 232.csv, id: 11dYrm4l1vEwqNQMPb-6VbxGgycI08wmx\n",
            "title: Beats 231.csv, id: 1CUenRX0iEKp6hAOfqA6vOVmTm6R6AU-W\n",
            "title: Beats 230.csv, id: 1zQ6Wgrut8RhyeynNiUe0ofD4eo5lDgNu\n",
            "title: Beats 228.csv, id: 1p0G2rWuSCKIV2jf-mQawU9bRuX0j3w46\n",
            "title: Beats 223.csv, id: 1ipESho8THh8jeemjMUN3As5yWqt40IPt\n",
            "title: Beats 222.csv, id: 1eOzCpVGR3XZA8abbXmOOd7QlJp3s1vMM\n",
            "title: Beats 221.csv, id: 1F0bbzWZQy4ezlrDOV78PBx76NsylDt-X\n",
            "title: Beats 220.csv, id: 1KroaWk9fdQUZilzjPGRxd1SYdhyqfjwN\n",
            "title: Beats 219.csv, id: 1_dNrRLjoe8mYY_r7rZh2y9uGjus3kXle\n",
            "title: Beats 217.csv, id: 16Iq7F00ii58oxPt0ZF_UJhbajCoCI4xa\n",
            "title: Beats 215.csv, id: 1gnzVUbbaGF-XXTad-Phx3URiBTUqtBNI\n",
            "title: Beats 214.csv, id: 149E33BZ7Y3mpRDA-lQNUD7GLybX7zi1u\n",
            "title: Beats 213.csv, id: 1IEIjIqOBcZUa3ltWqUPtKks9v_jlC8WU\n",
            "title: Beats 212.csv, id: 1w3bIHRH5PwYL8yu-aAsxEtFXzwI4ZAT7\n",
            "title: Beats 210.csv, id: 1x9uMXzOgwFb81PddTuyionf2QLaiVuif\n",
            "title: Beats 209.csv, id: 1RFDxHuTwNpNWhFakXKpRE9Y-snQ9uZ2l\n",
            "title: Beats 208.csv, id: 1PZV11-78QSCcFbxLzspQJ8wogerbdr5e\n",
            "title: Beats 207.csv, id: 1OoALRnhK-xPkpLBaHZ3izuqKBcSzKYwf\n",
            "title: Beats 205.csv, id: 1p6VrMTkJhwFio9QfFlkFtgWkkaD1I4Ar\n",
            "title: Beats 203.csv, id: 1HS2R6-VSR6CMu7vPLb0keI9Dli4yUORv\n",
            "title: Beats 202.csv, id: 1LdeowiShAyetM1J3WzG2XKQjNZxbLen9\n",
            "title: Beats 201.csv, id: 1A6hyT428Qmo-BKKN8xKu-oRu7ZPTGrj8\n",
            "title: Beats 200.csv, id: 1phMpKhT8zONDHdOMKaRE1lcy-Qqx9kt0\n",
            "title: Beats 124.csv, id: 1dGvYB-Qu9SnKPz9GUaNnULkQATtBf8Cr\n",
            "title: Beats 123.csv, id: 1aWyHz7AZ6HjFJoB4jcu8CK-iYO-ALz7P\n",
            "title: Beats 122.csv, id: 1z0p4kXnOEn8XjIHWnga_uMe7iCdGp7us\n",
            "title: Beats 121.csv, id: 1SAyuXw-QVQOJlRJseX0l9pMIlcaS4ZZD\n",
            "title: Beats 119.csv, id: 1UO_-2JfKigrj8sURo-NuKZHkRpjFuI9Z\n",
            "title: Beats 118.csv, id: 12p7Qtl-_D85SbaIykBs8BYzlrJ4ZSZ1r\n",
            "title: Beats 117.csv, id: 162jbCkuiN5-38elQq5rGp6gG9_IEuP87\n",
            "title: Beats 116.csv, id: 10Srf6LSylWL_q6ijhkiD9U3okg9dy22P\n",
            "title: Beats 115.csv, id: 13GxGYt60-aUd-c9VNHUqO14ffq4Z01Su\n",
            "title: Beats 114.csv, id: 1EHofX6-X85aFt9ZcwrcLgMCBnMcFCmOw\n",
            "title: Beats 113.csv, id: 1NrmjzP-kaz62H7jdP8_uSZRI24JjnQtz\n",
            "title: Beats 112.csv, id: 1DYpnmtSk7JOfZ5-48ouHd6xRBcrhO6ZN\n",
            "title: Beats 111.csv, id: 1_byEBDS_Lv7KEGIEEf7VT0DjfIgtTtF7\n",
            "title: list_symbol 108.csv, id: 1OtfYT2w0Mw4SAvbzEcvCGN02_hJ1FJgm\n",
            "title: list_symbol 106.csv, id: 1Jpr57bEKU6EH2bpxcHjOh1TKarj8Npdv\n",
            "title: list_symbol 107.csv, id: 1j0OK-JN4fZ08_CAye4kPdeWgHibaN9Qv\n",
            "title: Beats 109.csv, id: 1Pqj9ocG2r6Mc1RAef7qJIVcvVrRbwUFH\n",
            "title: list_symbol 105.csv, id: 1t9ivs69V-_a-jWkG2rPEG6CDvV0RqKP4\n",
            "title: list_symbol 104.csv, id: 1JyHgXjsW3lhc63gqmG9iioS7CsUJ6K4N\n",
            "title: list_symbol 101.csv, id: 1RoXUINS0r3Db-C9ix7vwdBwPsbH4Ce3i\n",
            "title: list_atb 223.csv, id: 1WUJaFHjel1g9Kjmm5t4-50HDpFTmHn4p\n",
            "title: list_atb 232.csv, id: 1CMhpjEiEaS1Jc7OTSb26g-NYfjdwmDhV\n",
            "title: list_atb 233.csv, id: 1IgKZLq-yAA-69cLgMqlv12bEvllyLhDa\n",
            "title: list_atb 234.csv, id: 1lH-DlA7Nbkqk9OkVmdxFSOE203Y_jn3N\n",
            "title: list_symbol 100.csv, id: 1HnuRnD4jqWDYSUNrDj821JpZ66VM_lE-\n",
            "title: list_symbol 103.csv, id: 1iG3XcN1yR3bI2QfyvDsO2jd6B4dL-oXR\n",
            "title: list_atb 231.csv, id: 1inWCFzUXJZGTXbgG-md5Qs30Zr1FkK_y\n",
            "title: list_atb 230.csv, id: 1Dw4oHKNIuXKfSGxJihvoP_Qehm-GKjF-\n",
            "title: list_symbol 102.csv, id: 1zqAt9Xa2bGG93SmrHIfxqmfysbl8yi1V\n",
            "title: list_atb 228.csv, id: 13uOHq5zyFJxt-30Vy3YiRHEO6tudjfj1\n",
            "title: Beats 108.csv, id: 1ZSrS4xexceVc1FHQbd5Aw8iAVSq0Qq3P\n",
            "title: list_atb 222.csv, id: 1-2y-jH5H-ICeB2xUsCGN5dWxXUITSiFT\n",
            "title: list_atb 212.csv, id: 1Rx3NufDLXj2uqhFckiFKaEWe7PftniMk\n",
            "title: list_atb 220.csv, id: 1Eg1jr7nycZgfg-9jaU-GT1tcvYV7toas\n",
            "title: list_atb 215.csv, id: 1ayJxgPmaadpuVkp50R_Um3rl8GNftALe\n",
            "title: list_atb 221.csv, id: 1UYy5HKxkgRBXOroOeyzBWLX-9g2N_gHT\n",
            "title: list_atb 213.csv, id: 1yADpjoZNHWZYPuA-D8-MEoOzRM9g9NFw\n",
            "title: list_atb 210.csv, id: 1mmtbn5MVE8fygIslzb5WZiBA7GoDWeW7\n",
            "title: list_atb 217.csv, id: 1-fWytLYzZ00p8smHshrzQ-HlqW81mgbJ\n",
            "title: list_atb 219.csv, id: 1OgbbrFBQSL89HucANfbDskk3MrikIsEH\n",
            "title: list_atb 214.csv, id: 1YR8BkxnXCeM0TBRIu9XkK88o5CfmKkS6\n",
            "title: Beats 107.csv, id: 1_YpNszk4afp_rUYRRMIfr6vvSIE2rWsv\n",
            "title: list_atb 209.csv, id: 1Q8b7xUGq8P-JQWYSz6nI8H-G3leu4-eC\n",
            "title: list_atb 205.csv, id: 1CX6FTVVRJnK-OYH6-ObAZ21jgj_rXk6K\n",
            "title: list_atb 203.csv, id: 1lpXGHiPrpG1qRJwTHpwyQ2yJvPRrC8pC\n",
            "title: list_atb 208.csv, id: 1DxDR89sVFOhoaXi35OdUtndz_uzkQPjN\n",
            "title: list_atb 200.csv, id: 14YgDAhQ9-hX9RX3oqlZLrt6rvxSga2-4\n",
            "title: list_atb 207.csv, id: 1eD-2h-JBXmkiY0ZU9O2RicmSjC3uYPNt\n",
            "title: list_atb 202.csv, id: 1gmDcYUmWX6k1RG6YFUtkBzXW762eSFdC\n",
            "title: list_atb 124.csv, id: 1K59TAYSE1jlKivxY92L_OoPP0cdtUjyL\n",
            "title: list_atb 201.csv, id: 1C69ne3ADm-urgHBhL7m4hs5a9Q_iqNqt\n",
            "title: Beats 106.csv, id: 1TCpr-8KOVUHPhUFes8w88ZN_nxQklXzT\n",
            "title: list_atb 123.csv, id: 1DFg0D2qKrvtEP-XlfeFGF4VLfErID-G5\n",
            "title: list_atb 112.csv, id: 1d25vls9sK3wDyqqltYocFVEbJa9My8aY\n",
            "title: list_atb 118.csv, id: 1jytQuc8UBmJA8X85hz2zioEp6LD7T6Bv\n",
            "title: list_atb 121.csv, id: 1VjC5BSSGZo5vZ7lSpXvZp_0JNnB1Rgap\n",
            "title: list_atb 117.csv, id: 1F2bWYsS10UQfy7ukW_ofDW5yp-LET7YF\n",
            "title: list_atb 119.csv, id: 1KugbMC3glz_ZVz36SxpDv-3e4UbqFgj0\n",
            "title: list_atb 122.csv, id: 1BxLoOEm-JZCjo5NUzE7WkDF2_ftAIqe5\n",
            "title: list_atb 116.csv, id: 1cSTa0HDvSxFJ9LIuACWFw9yBOIfkrQGi\n",
            "title: list_atb 115.csv, id: 1EdRFcQZCsgexBE8Pkj4AS_ZQ-yAtntJl\n",
            "title: list_atb 114.csv, id: 12RuYqhLx7gGXDhMtnEOHaYn4VA0auOt7\n",
            "title: list_atb 113.csv, id: 1EUaqt3zzxMLCijKToXFTZfMRHphnypgV\n",
            "title: Beats 105.csv, id: 1FicbIzLp8YKzCln85levV9KukTATkwJp\n",
            "title: list_atb 109.csv, id: 1hRF4pnQl4RfZIBlVTliM3tDQE2Qv1LEB\n",
            "title: list_atb 108.csv, id: 15FdFOfcRbd83u1P6FmyOKgrMOfCaYFRt\n",
            "title: list_atb 107.csv, id: 129A0JOH5nFEmGIp6WL5CMgNCnnrndQ4a\n",
            "title: list_atb 111.csv, id: 1KYPR3TNEHZgCROkqzrtd30dZrI7QjpLL\n",
            "title: list_atb 105.csv, id: 14gNoXYsGK0ZSrx0BUCTONk8l_sduv-UQ\n",
            "title: list_atb 106.csv, id: 1O0y6ZmP71eGp6J82yqn40OWERhsYeW2N\n",
            "title: list_atb 104.csv, id: 10Itz2M8Ttf9ZNk9HY232sQnn6BozeQ45\n",
            "title: list_atb 102.csv, id: 1pS7fjRhihAzeJxiE7POa6wZW223C4dC2\n",
            "title: list_atb 103.csv, id: 1Iql8COB2jmQ6QYj_SOOm03IN2-Q4jQRk\n",
            "title: list_atb 101.csv, id: 1yUMBeLJx6LDIdswStjFyj_c-RsUFGEk6\n",
            "title: Beats 104.csv, id: 1FsrLtq06ZYQv6hXmJfp9sGIazN_oL77E\n",
            "title: list_symbol 233.csv, id: 1KBcsSQKVpzDH3UPbxHW0xUC9QjnWos6U\n",
            "title: list_symbol 232.csv, id: 1RAKZ5nEokRJv4O4wqADcO_HZ14IZ3IjB\n",
            "title: list_atb 100.csv, id: 1ptZI7LtR9u2D9LhsHAiui1SQaNKq21Ji\n",
            "title: list_symbol 234.csv, id: 1GE7r5zSNKxl5ukFvpO28Fa_FY96A7Yis\n",
            "title: list_symbol 223.csv, id: 1GFRnmh8H94OKiO9L_qtXUJPQI6ab3jUd\n",
            "title: list_symbol 231.csv, id: 1VtZOjcm6RW_qZ4rA-1JEnrygvTxBwLxb\n",
            "title: list_symbol 230.csv, id: 1Eq2X1G7FivRM79EkNYzgTSddj5KOL5DK\n",
            "title: list_symbol 222.csv, id: 1dbhgZRyIF7AlldL6STX270XugZaJ_5D_\n",
            "title: list_symbol 228.csv, id: 1zQAxwTKJ1RNT11cIFk0-MUlOx1ekye21\n",
            "title: list_symbol 221.csv, id: 10xklZojnO-LTFkzKX1KhmGBVzCNDbaKo\n",
            "title: Beats 103.csv, id: 1NjiYc-4wdHfQfwU0JeIB5e8dUCMLH-rf\n",
            "title: list_symbol 219.csv, id: 1yALevIBTxw_vIaytlXFY3yesl9rhYvKa\n",
            "title: list_symbol 215.csv, id: 17Ad_trlaOOjTI-U5f6voUgm-lC70_c4y\n",
            "title: list_symbol 214.csv, id: 1kfONeEhZjaduYR9C1SUSsT_B7MNkwqwO\n",
            "title: list_symbol 220.csv, id: 1iL87wsOrhzDXtv0vwpyE5ax82QBHWxf_\n",
            "title: list_symbol 217.csv, id: 16Gw32djvyTxn_ZhNEy_Cel97-Kum8SSV\n",
            "title: list_symbol 210.csv, id: 1zgKwvmKvUfPT5qQDlhhhVH69Fo5LlMDY\n",
            "title: list_symbol 212.csv, id: 1FyxZtvXduV4O3WlwugTGKlxAKm428U1m\n",
            "title: list_symbol 213.csv, id: 1_4yUipuFoS0Hw-gQt14IUbcffe6-njzs\n",
            "title: list_symbol 209.csv, id: 1LZoszaCo2B3kO1yeYLhbgj5HEpKesoAz\n",
            "title: list_symbol 208.csv, id: 1k6ZLpCRyez-RGBGebftrL4Y_M6Oo3uV4\n",
            "title: list_symbol 202.csv, id: 1G0i9xqfusUgNNvVA8x66xwjQM3Gp4qP2\n",
            "title: list_symbol 201.csv, id: 1XXExch68XRZsmrxLfBEhdLHarbv-_SyX\n",
            "title: list_symbol 203.csv, id: 1HDDn-tyAoB2KeeRCFGLDihvlq7mSo8oC\n",
            "title: list_symbol 205.csv, id: 13HGJY9f7icd3yHRKgsM9tFwBZP4V_PaX\n",
            "title: list_symbol 124.csv, id: 15PP6oFl_9oh4IzzhEyPyNXmyU9i7VjsP\n",
            "title: list_symbol 207.csv, id: 1RHDtbzrFn8pU9RMGZrgI7OHfnnvFF4-q\n",
            "title: list_symbol 200.csv, id: 1tX2i9mi4DG2HnA7lPzNF5Zi4utwUMa-Z\n",
            "title: list_symbol 123.csv, id: 1XNc40A7gL3S_6DIyBdyRR3zbgN0YGLx5\n",
            "title: list_symbol 122.csv, id: 1FYzY1zMmu5YmTr8lW0rDPlUy8aaZZ3cd\n",
            "title: list_symbol 121.csv, id: 1hZrw-HCbY5_JWz9Y-EuJnsx-IIrCGEQM\n",
            "title: Beats 102.csv, id: 1ZOEbh7MLrV6W8QR2fA-l33WGdwH_uifu\n",
            "title: list_symbol 118.csv, id: 1KI9WYs0hbdOjVsjQC0SnhxJyB6EnZ8gn\n",
            "title: list_symbol 117.csv, id: 11wiTAZ3HYKaMOy9FX-8hO1v0e3vQeqac\n",
            "title: list_symbol 119.csv, id: 1C-Cia_dQ4Tue6P6_XQCpJc-seinfHhqJ\n",
            "title: list_symbol 116.csv, id: 148RgmuuyqfH0nubmdam3apFalgYF5Hsc\n",
            "title: list_symbol 113.csv, id: 1m2FDiYeZvtEIjrLHrukYwXG4nmRK-e2s\n",
            "title: list_symbol 115.csv, id: 1NOCqrUIW2XhHy-UOVzhckLZw42G1jRkS\n",
            "title: list_symbol 112.csv, id: 19HqVRzuhFzafEr-weQf5wB6GTv8ZIjX7\n",
            "title: list_symbol 114.csv, id: 1lvY3AAN53r3tUj_siMSCXHYFZaT0Usgi\n",
            "title: list_symbol 111.csv, id: 17hWVVfNenSMqB8WtFJm2WtvvU7jcSYU5\n",
            "title: list_symbol 109.csv, id: 11AXLKdKV-Mj-9M5CIR23fBwzEVpTZBXu\n",
            "title: Beats 101.csv, id: 1Bs9lZarrT8OaJY55TKFr9uSq024AGKSh\n",
            "title: Beats 100.csv, id: 1G0vD9Hb55-1uYpCOZ9Z-LgJwxdBKZDHU\n"
          ],
          "name": "stdout"
        }
      ]
    },
    {
      "cell_type": "code",
      "metadata": {
        "id": "rRG2UxALDBqA",
        "colab_type": "code",
        "outputId": "52293552-5030-467e-f769-e213c92b73fd",
        "colab": {
          "base_uri": "https://localhost:8080/",
          "height": 68
        }
      },
      "source": [
        "title = file_list[0]['title']\n",
        "print(title)\n",
        "key = title.split(\" \")\n",
        "print(key)\n",
        "key2 = key[1].split(\".\")\n",
        "print(key2)"
      ],
      "execution_count": 0,
      "outputs": [
        {
          "output_type": "stream",
          "text": [
            "Beats 234.csv\n",
            "['Beats', '234.csv']\n",
            "['234', 'csv']\n"
          ],
          "name": "stdout"
        }
      ]
    },
    {
      "cell_type": "code",
      "metadata": {
        "id": "eMQLhZ5FDDti",
        "colab_type": "code",
        "colab": {}
      },
      "source": [
        "data = {}\n",
        "for f in file_list:\n",
        "  if \"Beats\" in f['title']:\n",
        "    title = f['title']\n",
        "    key = title.split(\" \")\n",
        "    key2 = key[-1].split(\".\")\n",
        "    data[key2[0]] = {}\n",
        "    \n",
        "for key in data.keys():\n",
        "  for f in file_list:\n",
        "    if key in f['title'] and \"list_symbol\" in f['title']:\n",
        "      data[key]['list_symbol'] = [f['title'], f['id']]\n",
        "    elif key in f['title'] and \"Beats\" in f['title']:\n",
        "      data[key]['Beats'] = [f['title'], f['id']]\n",
        "    elif key in f['title'] and \"list_atb\" in f['title']:\n",
        "      data[key]['list_atb'] = [f['title'], f['id']]"
      ],
      "execution_count": 0,
      "outputs": []
    },
    {
      "cell_type": "code",
      "metadata": {
        "id": "DeALQtc4DHnp",
        "colab_type": "code",
        "colab": {}
      },
      "source": [
        "list_beats = []\n",
        "list_symbol = []\n",
        "list_atb = []\n",
        "import numpy as np\n",
        "for key in data.keys():\n",
        "  \n",
        "  id_beats = data[key][\"Beats\"][1]\n",
        "  title_beats = data[key][\"Beats\"][0]\n",
        "  downloaded_beats = drive.CreateFile({'id':id_beats}) \n",
        "  downloaded_beats.GetContentFile(title_beats)  \n",
        "  beats = np.genfromtxt(title_beats)\n",
        "  list_beats.append(beats)\n",
        "  \n",
        "  id_atb = data[key][\"list_atb\"][1]\n",
        "  title_atb = data[key][\"list_atb\"][0]\n",
        "  downloaded_atb = drive.CreateFile({'id':id_atb}) \n",
        "  downloaded_atb.GetContentFile(title_atb)  \n",
        "  atb = np.genfromtxt(title_atb, dtype = np.int32)\n",
        "  list_atb.append(atb)\n",
        "  \n",
        "  id_sym = data[key][\"list_symbol\"][1]\n",
        "  title_sym = data[key][\"list_symbol\"][0]\n",
        "  downloaded_sym = drive.CreateFile({'id':id_sym}) \n",
        "  downloaded_sym.GetContentFile(title_sym)  \n",
        "  sym = np.genfromtxt(title_sym, dtype = str)\n",
        "  list_symbol.append(sym)"
      ],
      "execution_count": 0,
      "outputs": []
    },
    {
      "cell_type": "code",
      "metadata": {
        "id": "fwkEiI4IDcue",
        "colab_type": "code",
        "outputId": "a9c957e8-6af9-468d-d802-8f4dc0a762d6",
        "colab": {
          "base_uri": "https://localhost:8080/",
          "height": 316
        }
      },
      "source": [
        "print(list_symbol[0])\n",
        "list_puncak = np.where(atb <= 1000)[0]\n",
        "puncak = list(atb[list_puncak])\n",
        "print(puncak)\n",
        "from matplotlib import pyplot as plt\n",
        "\n",
        "plot_signal = np.array(beats[0:1000])\n",
        "fig = plt.figure()\n",
        "plt.plot(np.arange(len(plot_signal)),plot_signal, \n",
        "         '*', linestyle='-', ms=10, markevery = puncak, \n",
        "         markerfacecolor = \"red\")"
      ],
      "execution_count": 0,
      "outputs": [
        {
          "output_type": "stream",
          "text": [
            "['+' 'N' 'N' ... 'N' 'N' 'N']\n",
            "[18, 77, 370, 662, 946]\n"
          ],
          "name": "stdout"
        },
        {
          "output_type": "execute_result",
          "data": {
            "text/plain": [
              "[<matplotlib.lines.Line2D at 0x7f3b3d353898>]"
            ]
          },
          "metadata": {
            "tags": []
          },
          "execution_count": 24
        },
        {
          "output_type": "display_data",
          "data": {
            "image/png": "[encoded data removed]",
            "text/plain": [
              "<Figure size 432x288 with 1 Axes>"
            ]
          },
          "metadata": {
            "tags": []
          }
        }
      ]
    },
    {
      "cell_type": "code",
      "metadata": {
        "id": "V3h3T1gYDhGR",
        "colab_type": "code",
        "outputId": "ac4cf773-f5f4-4be5-e6e0-8e17fc5410e7",
        "colab": {
          "base_uri": "https://localhost:8080/",
          "height": 85
        }
      },
      "source": [
        "print(atb[1])\n",
        "\n",
        "print(len(list_atb[0]))\n",
        "print(len(list_beats[0]))\n",
        "print(len(list_symbol[0]))"
      ],
      "execution_count": 0,
      "outputs": [
        {
          "output_type": "stream",
          "text": [
            "77\n",
            "2764\n",
            "650000\n",
            "2764\n"
          ],
          "name": "stdout"
        }
      ]
    },
    {
      "cell_type": "code",
      "metadata": {
        "id": "MIex9aDXDkpG",
        "colab_type": "code",
        "colab": {}
      },
      "source": [
        "X =[]\n",
        "y = []\n",
        "index = 0\n",
        "t0 = 90\n",
        "t1 = 162\n",
        "for index, value in enumerate(list_atb):\n",
        "  beat = list_beats[index]\n",
        "  symbol = list_symbol[index]\n",
        "  for idx, atb in enumerate(value):\n",
        "    \n",
        "    start = atb - t0\n",
        "    finish = atb + t1\n",
        "    \n",
        "    if start >= 0 and finish < 650000:\n",
        "      \n",
        "      slice_beat = beat[start:finish]\n",
        "      X.append(slice_beat)\n",
        "      y.append(symbol[idx])\n",
        "      \n",
        "X = np.array(X)\n",
        "y = np.array(y)"
      ],
      "execution_count": 0,
      "outputs": []
    },
    {
      "cell_type": "code",
      "metadata": {
        "id": "m26_hEPeZ-xV",
        "colab_type": "code",
        "outputId": "0f006aeb-1d73-42dc-d669-b983b0c8251c",
        "colab": {
          "base_uri": "https://localhost:8080/",
          "height": 1000
        }
      },
      "source": [
        "print(X[0])\n",
        "print(X[1])\n",
        "print(X[2])\n",
        "print(X[3])\n",
        "print(X[4])"
      ],
      "execution_count": 0,
      "outputs": [
        {
          "output_type": "stream",
          "text": [
            "[-0.065 -0.06  -0.055 -0.055 -0.05  -0.05  -0.065 -0.065 -0.06  -0.05\n",
            " -0.05  -0.045 -0.045 -0.05  -0.05  -0.05  -0.045 -0.055 -0.05  -0.065\n",
            " -0.08  -0.08  -0.065 -0.06  -0.055 -0.05  -0.05  -0.035 -0.02  -0.015\n",
            " -0.02  -0.015 -0.01   0.005  0.015  0.025  0.035  0.06   0.075  0.09\n",
            "  0.115  0.135  0.13   0.125  0.105  0.095  0.105  0.095  0.1    0.105\n",
            "  0.105  0.085  0.07   0.045  0.01  -0.02  -0.05  -0.07  -0.09  -0.095\n",
            " -0.08  -0.08  -0.075 -0.085 -0.09  -0.095 -0.11  -0.12  -0.125 -0.135\n",
            " -0.135 -0.14  -0.125 -0.125 -0.115 -0.13  -0.12  -0.125 -0.14  -0.155\n",
            " -0.135 -0.07   0.025  0.19   0.395  0.635  0.9    1.18   1.415  1.595\n",
            "  1.66   1.575  1.37   1.065  0.72   0.38   0.11  -0.09  -0.185 -0.23\n",
            " -0.205 -0.165 -0.12  -0.11  -0.125 -0.14  -0.155 -0.17  -0.185 -0.19\n",
            " -0.18  -0.175 -0.155 -0.18  -0.18  -0.18  -0.19  -0.205 -0.22  -0.215\n",
            " -0.19  -0.17  -0.155 -0.15  -0.15  -0.17  -0.175 -0.165 -0.175 -0.19\n",
            " -0.19  -0.185 -0.155 -0.14  -0.13  -0.13  -0.135 -0.135 -0.14  -0.14\n",
            " -0.15  -0.155 -0.145 -0.15  -0.145 -0.12  -0.105 -0.095 -0.085 -0.08\n",
            " -0.08  -0.08  -0.085 -0.08  -0.095 -0.075 -0.07  -0.065 -0.045 -0.025\n",
            " -0.025 -0.02  -0.02  -0.03  -0.035 -0.03  -0.035 -0.035 -0.035 -0.035\n",
            " -0.03  -0.025 -0.01  -0.01  -0.02  -0.035 -0.03  -0.025 -0.01   0.\n",
            "  0.02   0.04   0.065  0.065  0.06   0.055  0.075  0.07   0.06   0.055\n",
            "  0.045  0.035  0.045  0.04   0.045  0.04   0.045  0.045  0.03   0.02\n",
            "  0.03   0.02   0.025  0.03   0.03   0.035  0.035  0.03   0.03   0.035\n",
            "  0.035  0.03   0.03   0.03   0.025  0.03   0.03   0.035  0.04   0.04\n",
            "  0.045  0.045  0.03   0.03   0.015  0.045  0.045  0.055  0.045  0.055\n",
            "  0.06   0.055  0.055  0.06   0.045  0.05   0.035  0.04   0.05   0.055\n",
            "  0.06   0.07   0.08   0.07   0.07   0.045  0.045  0.035  0.035  0.035\n",
            "  0.045  0.05 ]\n",
            "[ 0.055  0.055  0.06   0.045  0.05   0.035  0.04   0.05   0.055  0.06\n",
            "  0.07   0.08   0.07   0.07   0.045  0.045  0.035  0.035  0.035  0.045\n",
            "  0.05   0.045  0.055  0.06   0.065  0.055  0.07   0.065  0.055  0.055\n",
            "  0.06   0.08   0.1    0.11   0.13   0.13   0.14   0.17   0.18   0.195\n",
            "  0.195  0.205  0.215  0.21   0.21   0.21   0.215  0.215  0.22   0.22\n",
            "  0.205  0.18   0.15   0.125  0.09   0.07   0.065  0.045  0.04   0.04\n",
            "  0.04   0.02   0.015  0.01   0.01  -0.01  -0.005 -0.01  -0.02  -0.02\n",
            " -0.02  -0.01  -0.015 -0.01  -0.01  -0.02  -0.04  -0.035 -0.06  -0.065\n",
            " -0.04   0.02   0.115  0.24   0.395  0.6    0.855  1.11   1.37   1.59\n",
            "  1.735  1.77   1.64   1.41   1.09   0.74   0.425  0.175 -0.01  -0.095\n",
            " -0.11  -0.1   -0.06  -0.025 -0.01  -0.035 -0.055 -0.075 -0.11  -0.12\n",
            " -0.125 -0.12  -0.12  -0.12  -0.14  -0.125 -0.125 -0.125 -0.12  -0.12\n",
            " -0.115 -0.115 -0.11  -0.135 -0.135 -0.145 -0.14  -0.13  -0.12  -0.12\n",
            " -0.12  -0.11  -0.105 -0.105 -0.115 -0.115 -0.125 -0.125 -0.115 -0.11\n",
            " -0.1   -0.095 -0.085 -0.075 -0.07  -0.065 -0.08  -0.095 -0.095 -0.095\n",
            " -0.09  -0.08  -0.08  -0.06  -0.06  -0.03  -0.03  -0.025 -0.035 -0.035\n",
            " -0.055 -0.045 -0.05  -0.04  -0.03  -0.02   0.     0.01   0.005  0.005\n",
            " -0.015 -0.025 -0.025 -0.035 -0.025 -0.02  -0.03  -0.02   0.     0.01\n",
            "  0.005  0.     0.005 -0.005  0.     0.     0.015  0.015  0.02   0.04\n",
            "  0.06   0.07   0.07   0.07   0.05   0.035  0.025  0.02   0.03   0.015\n",
            "  0.015  0.02   0.03   0.035  0.035  0.04   0.045  0.025  0.025  0.015\n",
            "  0.01   0.    -0.005 -0.005 -0.005  0.005  0.02   0.03   0.045  0.03\n",
            "  0.03   0.01  -0.005 -0.005  0.005  0.005  0.01   0.02   0.03   0.025\n",
            "  0.025  0.025  0.025  0.005  0.025  0.02   0.025  0.025  0.03   0.04\n",
            "  0.02   0.03   0.03   0.035  0.035  0.035  0.04   0.04   0.035  0.04\n",
            "  0.035  0.035]\n",
            "[ 0.02   0.03   0.03   0.035  0.035  0.035  0.04   0.04   0.035  0.04\n",
            "  0.035  0.035  0.03   0.03   0.035  0.025  0.02   0.01   0.025  0.015\n",
            "  0.035  0.04   0.025  0.03   0.045  0.055  0.06   0.055  0.05   0.06\n",
            "  0.07   0.085  0.11   0.12   0.14   0.16   0.165  0.19   0.205  0.205\n",
            "  0.2    0.175  0.155  0.155  0.165  0.18   0.195  0.21   0.19   0.17\n",
            "  0.155  0.115  0.095  0.055  0.035  0.015  0.015  0.005 -0.005  0.\n",
            " -0.025 -0.035 -0.04  -0.04  -0.05  -0.065 -0.08  -0.09  -0.08  -0.075\n",
            " -0.08  -0.065 -0.06  -0.07  -0.07  -0.07  -0.075 -0.105 -0.11  -0.11\n",
            " -0.075  0.005  0.115  0.255  0.435  0.655  0.905  1.175  1.44   1.645\n",
            "  1.745  1.69   1.52   1.245  0.915  0.575  0.27   0.045 -0.09  -0.15\n",
            " -0.155 -0.12  -0.095 -0.08  -0.085 -0.1   -0.12  -0.14  -0.16  -0.17\n",
            " -0.18  -0.175 -0.165 -0.165 -0.185 -0.18  -0.175 -0.175 -0.17  -0.165\n",
            " -0.175 -0.175 -0.185 -0.185 -0.185 -0.18  -0.18  -0.175 -0.16  -0.155\n",
            " -0.16  -0.145 -0.15  -0.165 -0.16  -0.155 -0.175 -0.175 -0.165 -0.165\n",
            " -0.16  -0.145 -0.125 -0.125 -0.125 -0.14  -0.135 -0.135 -0.135 -0.14\n",
            " -0.14  -0.125 -0.11  -0.115 -0.1   -0.095 -0.095 -0.1   -0.09  -0.095\n",
            " -0.09  -0.095 -0.1   -0.095 -0.08  -0.055 -0.04  -0.03  -0.025 -0.025\n",
            " -0.035 -0.04  -0.05  -0.055 -0.07  -0.065 -0.05  -0.04  -0.025 -0.025\n",
            " -0.005 -0.02  -0.01  -0.015 -0.015 -0.02  -0.015 -0.015  0.     0.015\n",
            "  0.015  0.03   0.03   0.025  0.015  0.005 -0.005 -0.02  -0.03  -0.03\n",
            " -0.02  -0.025 -0.015 -0.02  -0.015 -0.015 -0.02  -0.035 -0.045 -0.045\n",
            " -0.06  -0.065 -0.06  -0.06  -0.045 -0.03  -0.02  -0.01  -0.015 -0.03\n",
            " -0.035 -0.05  -0.05  -0.055 -0.045 -0.04  -0.03  -0.02  -0.015 -0.015\n",
            " -0.015 -0.02  -0.035 -0.04  -0.045 -0.045 -0.035 -0.03  -0.02  -0.005\n",
            "  0.005 -0.005  0.    -0.015 -0.03  -0.035 -0.035 -0.03  -0.05  -0.045\n",
            " -0.055 -0.04 ]\n",
            "[-0.045 -0.035 -0.03  -0.02  -0.005  0.005 -0.005  0.    -0.015 -0.03\n",
            " -0.035 -0.035 -0.03  -0.05  -0.045 -0.055 -0.04  -0.035 -0.03  -0.03\n",
            " -0.025 -0.03  -0.035 -0.035 -0.03  -0.015 -0.015 -0.005  0.02   0.04\n",
            "  0.045  0.05   0.045  0.045  0.05   0.065  0.085  0.095  0.105  0.125\n",
            "  0.13   0.145  0.125  0.11   0.12   0.115  0.12   0.12   0.105  0.09\n",
            "  0.07   0.035  0.025  0.    -0.01  -0.02  -0.04  -0.06  -0.075 -0.09\n",
            " -0.09  -0.095 -0.1   -0.105 -0.1   -0.1   -0.1   -0.1   -0.115 -0.12\n",
            " -0.13  -0.13  -0.125 -0.115 -0.105 -0.11  -0.11  -0.13  -0.145 -0.13\n",
            " -0.1   -0.04   0.055  0.18   0.36   0.575  0.835  1.115  1.375  1.585\n",
            "  1.69   1.68   1.525  1.255  0.95   0.63   0.32   0.085 -0.06  -0.135\n",
            " -0.155 -0.145 -0.11  -0.085 -0.065 -0.085 -0.125 -0.165 -0.175 -0.195\n",
            " -0.205 -0.195 -0.185 -0.18  -0.195 -0.18  -0.175 -0.185 -0.195 -0.2\n",
            " -0.205 -0.205 -0.2   -0.195 -0.18  -0.19  -0.185 -0.18  -0.18  -0.18\n",
            " -0.18  -0.185 -0.185 -0.19  -0.2   -0.18  -0.18  -0.18  -0.175 -0.17\n",
            " -0.18  -0.175 -0.17  -0.17  -0.17  -0.175 -0.17  -0.145 -0.145 -0.15\n",
            " -0.15  -0.145 -0.14  -0.135 -0.135 -0.125 -0.14  -0.12  -0.115 -0.11\n",
            " -0.09  -0.085 -0.095 -0.095 -0.1   -0.09  -0.11  -0.09  -0.085 -0.08\n",
            " -0.07  -0.075 -0.05  -0.055 -0.045 -0.05  -0.07  -0.075 -0.07  -0.08\n",
            " -0.065 -0.07  -0.065 -0.045 -0.035 -0.04  -0.025 -0.025 -0.02  -0.025\n",
            " -0.04  -0.045 -0.035 -0.03  -0.005 -0.01   0.01   0.01   0.015  0.02\n",
            "  0.    -0.01  -0.01  -0.02  -0.025 -0.03  -0.035 -0.03  -0.01   0.\n",
            " -0.01  -0.01  -0.02  -0.03  -0.03  -0.04  -0.045 -0.035 -0.04  -0.035\n",
            " -0.03  -0.015 -0.01  -0.01  -0.015 -0.01  -0.025 -0.035 -0.04  -0.045\n",
            " -0.04  -0.04  -0.03  -0.015 -0.015 -0.025 -0.01  -0.02  -0.03  -0.02\n",
            " -0.025 -0.025 -0.035 -0.035 -0.035 -0.01  -0.01  -0.01  -0.025 -0.03\n",
            " -0.025 -0.03 ]\n",
            "[-0.025 -0.035 -0.035 -0.035 -0.01  -0.01  -0.01  -0.025 -0.03  -0.025\n",
            " -0.03  -0.045 -0.025 -0.03  -0.03  -0.02  -0.03  -0.035 -0.045 -0.045\n",
            " -0.05  -0.065 -0.05  -0.055 -0.025 -0.03  -0.015  0.005  0.005  0.01\n",
            "  0.015  0.015  0.02   0.03   0.04   0.06   0.075  0.11   0.145  0.145\n",
            "  0.15   0.145  0.12   0.105  0.1    0.095  0.095  0.095  0.075  0.085\n",
            "  0.075  0.05   0.015  0.    -0.025 -0.05  -0.06  -0.07  -0.095 -0.1\n",
            " -0.105 -0.1   -0.09  -0.085 -0.09  -0.095 -0.105 -0.12  -0.115 -0.125\n",
            " -0.13  -0.14  -0.135 -0.125 -0.125 -0.125 -0.14  -0.145 -0.16  -0.17\n",
            " -0.12  -0.06   0.03   0.145  0.31   0.52   0.775  1.05   1.315  1.525\n",
            "  1.645  1.65   1.505  1.26   0.955  0.63   0.335  0.1   -0.055 -0.14\n",
            " -0.165 -0.15  -0.12  -0.09  -0.085 -0.09  -0.11  -0.155 -0.165 -0.185\n",
            " -0.195 -0.2   -0.195 -0.19  -0.185 -0.195 -0.2   -0.2   -0.2   -0.195\n",
            " -0.185 -0.185 -0.185 -0.19  -0.18  -0.175 -0.19  -0.205 -0.205 -0.2\n",
            " -0.19  -0.185 -0.18  -0.165 -0.155 -0.155 -0.155 -0.145 -0.165 -0.165\n",
            " -0.17  -0.18  -0.175 -0.17  -0.165 -0.165 -0.15  -0.145 -0.14  -0.125\n",
            " -0.135 -0.13  -0.145 -0.15  -0.145 -0.16  -0.155 -0.14  -0.13  -0.11\n",
            " -0.105 -0.105 -0.1   -0.09  -0.095 -0.1   -0.11  -0.11  -0.11  -0.09\n",
            " -0.075 -0.07  -0.075 -0.07  -0.07  -0.065 -0.07  -0.07  -0.065 -0.07\n",
            " -0.065 -0.065 -0.06  -0.045 -0.055 -0.06  -0.065 -0.065 -0.07  -0.055\n",
            " -0.03  -0.015 -0.005  0.005  0.01   0.02   0.01   0.015  0.01  -0.01\n",
            " -0.02  -0.035 -0.005 -0.005  0.     0.005  0.01   0.01   0.     0.\n",
            " -0.015 -0.025 -0.025 -0.03  -0.03  -0.03  -0.025 -0.025 -0.01   0.005\n",
            " -0.005  0.    -0.02  -0.03  -0.045 -0.045 -0.055 -0.04  -0.04  -0.025\n",
            " -0.02  -0.01   0.     0.01  -0.005 -0.015 -0.025 -0.02  -0.025 -0.03\n",
            " -0.025 -0.02  -0.015  0.     0.     0.    -0.005  0.    -0.015 -0.015\n",
            " -0.025 -0.02 ]\n"
          ],
          "name": "stdout"
        }
      ]
    },
    {
      "cell_type": "code",
      "metadata": {
        "id": "IVTm1vlhkvJM",
        "colab_type": "code",
        "outputId": "06539f6f-a781-4141-a4ab-ff4ac9594607",
        "colab": {
          "base_uri": "https://localhost:8080/",
          "height": 1000
        }
      },
      "source": [
        "print(X[112558])\n",
        "print(X[112559])\n",
        "print(X[112560])\n",
        "print(X[112561])\n",
        "print(X[112562])"
      ],
      "execution_count": 0,
      "outputs": [
        {
          "output_type": "stream",
          "text": [
            "[-0.355 -0.35  -0.33  -0.33  -0.34  -0.35  -0.36  -0.345 -0.33  -0.34\n",
            " -0.345 -0.345 -0.355 -0.32  -0.31  -0.305 -0.31  -0.305 -0.3   -0.27\n",
            " -0.25  -0.25  -0.245 -0.235 -0.24  -0.215 -0.21  -0.195 -0.2   -0.21\n",
            " -0.205 -0.21  -0.215 -0.225 -0.235 -0.225 -0.23  -0.215 -0.21  -0.195\n",
            " -0.195 -0.17  -0.155 -0.135 -0.13  -0.15  -0.195 -0.235 -0.26  -0.245\n",
            " -0.25  -0.27  -0.29  -0.31  -0.32  -0.335 -0.335 -0.33  -0.335 -0.345\n",
            " -0.35  -0.36  -0.355 -0.355 -0.365 -0.38  -0.375 -0.37  -0.36  -0.355\n",
            " -0.365 -0.365 -0.375 -0.35  -0.36  -0.38  -0.415 -0.47  -0.485 -0.49\n",
            " -0.53  -0.56  -0.535 -0.42  -0.265 -0.08   0.12   0.405  0.715  0.925\n",
            "  1.     0.965  0.695  0.23  -0.235 -0.515 -0.555 -0.46  -0.385 -0.365\n",
            " -0.37  -0.375 -0.39  -0.37  -0.355 -0.36  -0.375 -0.395 -0.395 -0.385\n",
            " -0.37  -0.365 -0.375 -0.385 -0.39  -0.385 -0.385 -0.385 -0.385 -0.385\n",
            " -0.4   -0.395 -0.385 -0.37  -0.375 -0.385 -0.39  -0.365 -0.365 -0.365\n",
            " -0.365 -0.375 -0.375 -0.36  -0.365 -0.365 -0.355 -0.365 -0.375 -0.375\n",
            " -0.365 -0.37  -0.375 -0.38  -0.38  -0.375 -0.37  -0.36  -0.36  -0.365\n",
            " -0.375 -0.355 -0.35  -0.34  -0.345 -0.34  -0.33  -0.34  -0.335 -0.335\n",
            " -0.33  -0.35  -0.35  -0.34  -0.335 -0.35  -0.35  -0.35  -0.35  -0.34\n",
            " -0.33  -0.335 -0.335 -0.335 -0.335 -0.325 -0.33  -0.31  -0.32  -0.315\n",
            " -0.31  -0.305 -0.29  -0.3   -0.305 -0.315 -0.315 -0.305 -0.285 -0.275\n",
            " -0.265 -0.265 -0.265 -0.25  -0.235 -0.24  -0.23  -0.23  -0.235 -0.225\n",
            " -0.215 -0.225 -0.235 -0.235 -0.24  -0.225 -0.22  -0.24  -0.24  -0.245\n",
            " -0.25  -0.24  -0.22  -0.225 -0.24  -0.24  -0.235 -0.245 -0.24  -0.235\n",
            " -0.235 -0.245 -0.24  -0.245 -0.24  -0.245 -0.26  -0.26  -0.265 -0.25\n",
            " -0.25  -0.26  -0.265 -0.27  -0.28  -0.275 -0.27  -0.275 -0.28  -0.28\n",
            " -0.295 -0.29  -0.285 -0.27  -0.285 -0.295 -0.295 -0.285 -0.27  -0.265\n",
            " -0.275 -0.29 ]\n",
            "[-0.295 -0.295 -0.285 -0.27  -0.265 -0.275 -0.29  -0.29  -0.29  -0.275\n",
            " -0.29  -0.285 -0.295 -0.3   -0.295 -0.285 -0.29  -0.29  -0.265 -0.265\n",
            " -0.245 -0.24  -0.23  -0.23  -0.225 -0.215 -0.205 -0.175 -0.18  -0.175\n",
            " -0.175 -0.16  -0.15  -0.14  -0.15  -0.165 -0.185 -0.185 -0.165 -0.155\n",
            " -0.165 -0.145 -0.145 -0.145 -0.16  -0.18  -0.22  -0.235 -0.235 -0.255\n",
            " -0.245 -0.255 -0.27  -0.295 -0.32  -0.31  -0.305 -0.285 -0.3   -0.3\n",
            " -0.31  -0.325 -0.32  -0.315 -0.305 -0.315 -0.32  -0.325 -0.335 -0.325\n",
            " -0.34  -0.325 -0.33  -0.33  -0.31  -0.32  -0.34  -0.37  -0.42  -0.46\n",
            " -0.47  -0.505 -0.525 -0.485 -0.355 -0.19   0.01   0.265  0.57   0.825\n",
            "  0.96   0.905  0.665  0.25  -0.19  -0.47  -0.545 -0.475 -0.39  -0.355\n",
            " -0.36  -0.365 -0.37  -0.36  -0.345 -0.34  -0.34  -0.335 -0.35  -0.355\n",
            " -0.33  -0.32  -0.315 -0.335 -0.335 -0.35  -0.34  -0.325 -0.32  -0.345\n",
            " -0.345 -0.345 -0.34  -0.335 -0.32  -0.34  -0.355 -0.35  -0.345 -0.345\n",
            " -0.335 -0.35  -0.35  -0.355 -0.34  -0.345 -0.335 -0.33  -0.33  -0.34\n",
            " -0.34  -0.34  -0.33  -0.33  -0.335 -0.335 -0.305 -0.3   -0.305 -0.305\n",
            " -0.305 -0.325 -0.32  -0.305 -0.305 -0.315 -0.32  -0.32  -0.305 -0.3\n",
            " -0.295 -0.285 -0.305 -0.305 -0.305 -0.285 -0.285 -0.285 -0.295 -0.285\n",
            " -0.275 -0.28  -0.285 -0.285 -0.295 -0.305 -0.295 -0.28  -0.285 -0.295\n",
            " -0.295 -0.29  -0.29  -0.285 -0.28  -0.28  -0.285 -0.285 -0.27  -0.26\n",
            " -0.245 -0.25  -0.245 -0.245 -0.235 -0.225 -0.22  -0.22  -0.215 -0.215\n",
            " -0.215 -0.205 -0.205 -0.215 -0.215 -0.22  -0.215 -0.22  -0.205 -0.22\n",
            " -0.22  -0.235 -0.22  -0.21  -0.205 -0.225 -0.235 -0.23  -0.23  -0.225\n",
            " -0.23  -0.225 -0.235 -0.245 -0.245 -0.23  -0.225 -0.235 -0.25  -0.25\n",
            " -0.24  -0.22  -0.23  -0.235 -0.245 -0.255 -0.245 -0.245 -0.245 -0.24\n",
            " -0.265 -0.255 -0.255 -0.255 -0.255 -0.26  -0.275 -0.28  -0.275 -0.27\n",
            " -0.28  -0.285]\n",
            "[-0.285 -0.275 -0.28  -0.275 -0.29  -0.28  -0.285 -0.28  -0.265 -0.285\n",
            " -0.285 -0.285 -0.265 -0.245 -0.24  -0.245 -0.25  -0.255 -0.22  -0.22\n",
            " -0.205 -0.195 -0.2   -0.2   -0.185 -0.17  -0.16  -0.16  -0.165 -0.165\n",
            " -0.155 -0.16  -0.165 -0.185 -0.195 -0.195 -0.185 -0.175 -0.17  -0.17\n",
            " -0.165 -0.16  -0.14  -0.15  -0.18  -0.215 -0.245 -0.25  -0.27  -0.28\n",
            " -0.295 -0.31  -0.33  -0.335 -0.32  -0.31  -0.315 -0.33  -0.34  -0.345\n",
            " -0.335 -0.325 -0.335 -0.33  -0.335 -0.36  -0.365 -0.35  -0.35  -0.345\n",
            " -0.35  -0.36  -0.36  -0.355 -0.355 -0.365 -0.415 -0.465 -0.47  -0.485\n",
            " -0.525 -0.555 -0.525 -0.42  -0.27  -0.11   0.09   0.38   0.655  0.84\n",
            "  0.91   0.815  0.525  0.095 -0.295 -0.5   -0.55  -0.5   -0.43  -0.395\n",
            " -0.395 -0.405 -0.39  -0.38  -0.37  -0.37  -0.38  -0.385 -0.38  -0.38\n",
            " -0.37  -0.365 -0.375 -0.38  -0.37  -0.37  -0.365 -0.37  -0.385 -0.395\n",
            " -0.39  -0.36  -0.365 -0.365 -0.375 -0.39  -0.385 -0.38  -0.37  -0.39\n",
            " -0.385 -0.39  -0.385 -0.37  -0.375 -0.375 -0.37  -0.385 -0.375 -0.365\n",
            " -0.36  -0.365 -0.37  -0.36  -0.365 -0.355 -0.36  -0.37  -0.37  -0.375\n",
            " -0.365 -0.365 -0.36  -0.36  -0.37  -0.37  -0.355 -0.36  -0.35  -0.345\n",
            " -0.375 -0.365 -0.365 -0.37  -0.36  -0.36  -0.36  -0.36  -0.355 -0.355\n",
            " -0.34  -0.35  -0.35  -0.365 -0.35  -0.35  -0.345 -0.34  -0.35  -0.355\n",
            " -0.365 -0.355 -0.35  -0.345 -0.345 -0.345 -0.345 -0.335 -0.34  -0.345\n",
            " -0.34  -0.345 -0.335 -0.31  -0.3   -0.295 -0.295 -0.285 -0.28  -0.265\n",
            " -0.255 -0.25  -0.26  -0.27  -0.25  -0.24  -0.24  -0.245 -0.26  -0.265\n",
            " -0.26  -0.23  -0.245 -0.245 -0.255 -0.265 -0.255 -0.25  -0.25  -0.26\n",
            " -0.27  -0.275 -0.265 -0.255 -0.25  -0.265 -0.26  -0.265 -0.26  -0.255\n",
            " -0.26  -0.265 -0.27  -0.265 -0.275 -0.26  -0.27  -0.265 -0.275 -0.275\n",
            " -0.28  -0.285 -0.29  -0.295 -0.305 -0.31  -0.305 -0.3   -0.285 -0.3\n",
            " -0.305 -0.305]\n",
            "[-0.305 -0.3   -0.305 -0.305 -0.325 -0.325 -0.33  -0.32  -0.315 -0.32\n",
            " -0.325 -0.325 -0.32  -0.3   -0.28  -0.285 -0.28  -0.265 -0.255 -0.24\n",
            " -0.23  -0.23  -0.24  -0.24  -0.22  -0.205 -0.18  -0.185 -0.195 -0.185\n",
            " -0.185 -0.175 -0.165 -0.185 -0.19  -0.21  -0.22  -0.19  -0.19  -0.195\n",
            " -0.2   -0.19  -0.155 -0.165 -0.185 -0.24  -0.265 -0.275 -0.285 -0.295\n",
            " -0.31  -0.335 -0.355 -0.36  -0.345 -0.32  -0.33  -0.35  -0.35  -0.36\n",
            " -0.365 -0.35  -0.355 -0.345 -0.355 -0.365 -0.345 -0.34  -0.345 -0.355\n",
            " -0.355 -0.365 -0.36  -0.35  -0.355 -0.37  -0.41  -0.45  -0.49  -0.505\n",
            " -0.54  -0.595 -0.565 -0.475 -0.33  -0.185 -0.02   0.235  0.51   0.75\n",
            "  0.89   0.93   0.83   0.515  0.075 -0.34  -0.55  -0.545 -0.465 -0.405\n",
            " -0.38  -0.39  -0.385 -0.37  -0.37  -0.37  -0.37  -0.38  -0.375 -0.36\n",
            " -0.365 -0.365 -0.38  -0.4   -0.39  -0.38  -0.38  -0.385 -0.39  -0.395\n",
            " -0.39  -0.365 -0.365 -0.37  -0.375 -0.38  -0.37  -0.355 -0.365 -0.37\n",
            " -0.375 -0.385 -0.37  -0.36  -0.36  -0.36  -0.375 -0.365 -0.37  -0.37\n",
            " -0.39  -0.38  -0.375 -0.385 -0.39  -0.37  -0.375 -0.385 -0.39  -0.395\n",
            " -0.395 -0.375 -0.37  -0.37  -0.37  -0.375 -0.365 -0.355 -0.345 -0.36\n",
            " -0.365 -0.365 -0.345 -0.355 -0.35  -0.36  -0.355 -0.37  -0.365 -0.365\n",
            " -0.355 -0.35  -0.355 -0.37  -0.355 -0.36  -0.34  -0.34  -0.35  -0.35\n",
            " -0.35  -0.34  -0.34  -0.33  -0.335 -0.335 -0.325 -0.325 -0.31  -0.3\n",
            " -0.31  -0.325 -0.305 -0.29  -0.285 -0.285 -0.295 -0.29  -0.285 -0.27\n",
            " -0.27  -0.265 -0.275 -0.29  -0.285 -0.28  -0.275 -0.28  -0.275 -0.28\n",
            " -0.28  -0.27  -0.28  -0.28  -0.29  -0.305 -0.29  -0.285 -0.28  -0.295\n",
            " -0.31  -0.31  -0.305 -0.295 -0.275 -0.29  -0.295 -0.305 -0.3   -0.295\n",
            " -0.28  -0.305 -0.315 -0.315 -0.315 -0.31  -0.29  -0.3   -0.315 -0.32\n",
            " -0.31  -0.315 -0.325 -0.335 -0.34  -0.335 -0.325 -0.32  -0.315 -0.335\n",
            " -0.345 -0.345]\n",
            "[-0.345 -0.345 -0.335 -0.325 -0.345 -0.335 -0.35  -0.35  -0.34  -0.325\n",
            " -0.33  -0.315 -0.315 -0.325 -0.315 -0.3   -0.3   -0.3   -0.295 -0.295\n",
            " -0.265 -0.25  -0.25  -0.265 -0.27  -0.28  -0.26  -0.235 -0.225 -0.235\n",
            " -0.225 -0.235 -0.23  -0.22  -0.215 -0.235 -0.24  -0.24  -0.235 -0.215\n",
            " -0.215 -0.215 -0.22  -0.195 -0.21  -0.235 -0.275 -0.305 -0.3   -0.315\n",
            " -0.305 -0.31  -0.335 -0.355 -0.385 -0.395 -0.4   -0.39  -0.37  -0.37\n",
            " -0.385 -0.4   -0.395 -0.38  -0.38  -0.39  -0.385 -0.41  -0.39  -0.395\n",
            " -0.385 -0.385 -0.385 -0.395 -0.415 -0.435 -0.465 -0.52  -0.53  -0.57\n",
            " -0.595 -0.615 -0.575 -0.475 -0.35  -0.19   0.065  0.375  0.65   0.83\n",
            "  0.9    0.745  0.4   -0.01  -0.345 -0.545 -0.585 -0.545 -0.485 -0.445\n",
            " -0.43  -0.445 -0.445 -0.44  -0.43  -0.43  -0.435 -0.445 -0.45  -0.455\n",
            " -0.46  -0.45  -0.46  -0.47  -0.49  -0.48  -0.47  -0.455 -0.44  -0.43\n",
            " -0.445 -0.47  -0.475 -0.475 -0.46  -0.445 -0.455 -0.455 -0.46  -0.46\n",
            " -0.465 -0.475 -0.5   -0.485 -0.47  -0.45  -0.45  -0.47  -0.485 -0.5\n",
            " -0.48  -0.465 -0.48  -0.485 -0.48  -0.485 -0.475 -0.475 -0.475 -0.47\n",
            " -0.47  -0.475 -0.475 -0.495 -0.475 -0.48  -0.495 -0.495 -0.48  -0.48\n",
            " -0.475 -0.475 -0.48  -0.5   -0.515 -0.515 -0.5   -0.485 -0.49  -0.5\n",
            " -0.5   -0.5   -0.49  -0.495 -0.505 -0.525 -0.525 -0.52  -0.52  -0.515\n",
            " -0.51  -0.51  -0.51  -0.495 -0.49  -0.495 -0.495 -0.505 -0.495 -0.47\n",
            " -0.47  -0.445 -0.44  -0.44  -0.44  -0.42  -0.41  -0.41  -0.4   -0.375\n",
            " -0.37  -0.36  -0.365 -0.365 -0.375 -0.395 -0.38  -0.36  -0.335 -0.34\n",
            " -0.34  -0.355 -0.38  -0.375 -0.385 -0.385 -0.395 -0.4   -0.38  -0.37\n",
            " -0.38  -0.375 -0.39  -0.405 -0.41  -0.385 -0.38  -0.385 -0.395 -0.41\n",
            " -0.405 -0.41  -0.4   -0.395 -0.39  -0.4   -0.4   -0.4   -0.42  -0.435\n",
            " -0.445 -0.445 -0.43  -0.44  -0.46  -0.46  -0.48  -0.475 -0.46  -0.425\n",
            " -0.45  -0.475]\n"
          ],
          "name": "stdout"
        }
      ]
    },
    {
      "cell_type": "code",
      "metadata": {
        "id": "avOTZRVFpssl",
        "colab_type": "code",
        "outputId": "0895a292-c837-449e-a714-87313a090b7a",
        "colab": {
          "base_uri": "https://localhost:8080/",
          "height": 34
        }
      },
      "source": [
        "print(len(y))"
      ],
      "execution_count": 0,
      "outputs": [
        {
          "output_type": "stream",
          "text": [
            "112563\n"
          ],
          "name": "stdout"
        }
      ]
    },
    {
      "cell_type": "code",
      "metadata": {
        "id": "HY8ZIAFBp8bC",
        "colab_type": "code",
        "outputId": "ab02147e-6b5c-40c4-8437-fa86653e9021",
        "colab": {
          "base_uri": "https://localhost:8080/",
          "height": 102
        }
      },
      "source": [
        "print(y[112558])\n",
        "print(y[112559])\n",
        "print(y[112560])\n",
        "print(y[112561])\n",
        "print(y[112562])"
      ],
      "execution_count": 0,
      "outputs": [
        {
          "output_type": "stream",
          "text": [
            "N\n",
            "N\n",
            "N\n",
            "N\n",
            "N\n"
          ],
          "name": "stdout"
        }
      ]
    },
    {
      "cell_type": "code",
      "metadata": {
        "id": "iRduE2yWqJ3v",
        "colab_type": "code",
        "outputId": "e08f7f95-b9ee-40e0-aa1e-e5bb40c36ff3",
        "colab": {
          "base_uri": "https://localhost:8080/",
          "height": 102
        }
      },
      "source": [
        "print(y[0])\n",
        "print(y[1])\n",
        "print(y[2])\n",
        "print(y[3])\n",
        "print(y[4])"
      ],
      "execution_count": 0,
      "outputs": [
        {
          "output_type": "stream",
          "text": [
            "N\n",
            "N\n",
            "N\n",
            "N\n",
            "N\n"
          ],
          "name": "stdout"
        }
      ]
    },
    {
      "cell_type": "code",
      "metadata": {
        "id": "lVK-cOepC45w",
        "colab_type": "code",
        "outputId": "15b8f630-2604-42c5-d7fc-0ba0550a5db9",
        "colab": {
          "base_uri": "https://localhost:8080/",
          "height": 34
        }
      },
      "source": [
        "type(y)\n",
        "X.shape"
      ],
      "execution_count": 0,
      "outputs": [
        {
          "output_type": "execute_result",
          "data": {
            "text/plain": [
              "(112563, 252)"
            ]
          },
          "metadata": {
            "tags": []
          },
          "execution_count": 32
        }
      ]
    },
    {
      "cell_type": "code",
      "metadata": {
        "id": "Uo2FV4MUjjw8",
        "colab_type": "code",
        "outputId": "c20cf7f1-be35-49a9-833a-c35796e5ce4a",
        "colab": {
          "base_uri": "https://localhost:8080/",
          "height": 1000
        }
      },
      "source": [
        "print(y)\n",
        "list_z = np.where(y == '[')[0]\n",
        "print(X)\n",
        "print(list_z)\n",
        "y = np.delete(y, list_z)\n",
        "X = np.delete(X, list_z, 0)\n",
        "print(y)\n",
        "print(X)\n",
        "print(len(y))\n",
        "print(len(X))\n",
        "\n",
        "list_z = np.where(y == '!')[0]\n",
        "print(list_z)\n",
        "y = np.delete(y, list_z)\n",
        "X = np.delete(X, list_z, 0)\n",
        "print(y)\n",
        "print(X)\n",
        "print(len(y))\n",
        "print(len(X))\n",
        "\n",
        "list_z = np.where(y == ']')[0]\n",
        "print(list_z)\n",
        "y = np.delete(y, list_z)\n",
        "X = np.delete(X, list_z, 0)\n",
        "print(y)\n",
        "print(X)\n",
        "print(len(y))\n",
        "print(len(X))\n",
        "\n",
        "list_z = np.where(y == 'x')[0]\n",
        "print(list_z)\n",
        "y = np.delete(y, list_z)\n",
        "X = np.delete(X, list_z, 0)\n",
        "print(y)\n",
        "print(X)\n",
        "print(len(y))\n",
        "print(len(X))\n",
        "\n",
        "list_z = np.where(y == '|')[0]\n",
        "print(list_z)\n",
        "y = np.delete(y, list_z)\n",
        "X = np.delete(X, list_z, 0)\n",
        "print(y)\n",
        "print(X)\n",
        "print(len(y))\n",
        "print(len(X))\n",
        "\n",
        "list_z = np.where(y == '\"')[0]\n",
        "print(list_z)\n",
        "y = np.delete(y, list_z)\n",
        "X = np.delete(X, list_z, 0)\n",
        "print(y)\n",
        "print(X)\n",
        "print(len(y))\n",
        "print(len(X))\n",
        "\n",
        "list_z = np.where(y == '+')[0]\n",
        "print(list_z)\n",
        "y = np.delete(y, list_z)\n",
        "X = np.delete(X, list_z, 0)\n",
        "print(y)\n",
        "print(X)\n",
        "print(len(y))\n",
        "print(len(X))\n",
        "\n",
        "list_z = np.where(y == '~')[0]\n",
        "print(list_z)\n",
        "y = np.delete(y, list_z)\n",
        "X = np.delete(X, list_z, 0)\n",
        "print(y)\n",
        "print(X)\n",
        "print(len(y))\n",
        "print(len(X))"
      ],
      "execution_count": 0,
      "outputs": [
        {
          "output_type": "stream",
          "text": [
            "['N' 'N' 'N' ... 'N' 'N' 'N']\n",
            "[[-0.065 -0.06  -0.055 ...  0.035  0.045  0.05 ]\n",
            " [ 0.055  0.055  0.06  ...  0.04   0.035  0.035]\n",
            " [ 0.02   0.03   0.03  ... -0.045 -0.055 -0.04 ]\n",
            " ...\n",
            " [-0.285 -0.275 -0.28  ... -0.3   -0.305 -0.305]\n",
            " [-0.305 -0.3   -0.305 ... -0.335 -0.345 -0.345]\n",
            " [-0.345 -0.345 -0.335 ... -0.425 -0.45  -0.475]]\n",
            "[49290 49325 49543 49560 49612 51068]\n",
            "['N' 'N' 'N' ... 'N' 'N' 'N']\n",
            "[[-0.065 -0.06  -0.055 ...  0.035  0.045  0.05 ]\n",
            " [ 0.055  0.055  0.06  ...  0.04   0.035  0.035]\n",
            " [ 0.02   0.03   0.03  ... -0.045 -0.055 -0.04 ]\n",
            " ...\n",
            " [-0.285 -0.275 -0.28  ... -0.3   -0.305 -0.305]\n",
            " [-0.305 -0.3   -0.305 ... -0.335 -0.345 -0.345]\n",
            " [-0.345 -0.345 -0.335 ... -0.425 -0.45  -0.475]]\n",
            "112557\n",
            "112557\n",
            "[49291 49292 49293 49294 49295 49296 49297 49298 49299 49300 49301 49302\n",
            " 49303 49304 49305 49306 49307 49308 49309 49310 49311 49312 49313 49314\n",
            " 49315 49316 49317 49318 49325 49326 49327 49328 49329 49330 49331 49332\n",
            " 49333 49334 49335 49336 49337 49338 49339 49340 49542 49543 49544 49545\n",
            " 49546 49547 49548 49549 49550 49551 49552 49553 49558 49559 49560 49561\n",
            " 49562 49563 49564 49565 49566 49567 49568 49569 49570 49571 49572 49573\n",
            " 49574 49575 49576 49577 49578 49579 49580 49581 49582 49583 49584 49585\n",
            " 49586 49587 49588 49589 49590 49591 49592 49593 49594 49595 49596 49597\n",
            " 49609 49610 49611 49612 49613 49614 49615 49616 49617 49618 49619 49620\n",
            " 49621 49622 49623 49624 49625 49626 49627 49628 49629 49630 49631 49632\n",
            " 49633 49634 49635 49636 49637 49638 49639 49640 49641 49642 49643 49644\n",
            " 51064 51065 51066 51067 51068 51069 51070 51071 51072 51073 51074 51075\n",
            " 51076 51077 51078 51079 51080 51081 51082 51083 51084 51085 51086 51087\n",
            " 51088 51089 51090 51091 51092 51093 51094 51095 51096 51097 51098 51099\n",
            " 51100 51101 51102 51103 51104 51105 51106 51107 51108 51109 51110 51111\n",
            " 51112 51113 51114 51115 51116 51117 51118 51119 51120 51121 51122 51123\n",
            " 51124 51125 51126 51127 51128 51129 51130 51131 51132 51133 51134 51135\n",
            " 51136 51137 51138 51139 51140 51141 51142 51143 51144 51145 51146 51147\n",
            " 51148 51149 51150 51151 51152 51153 51154 51155 51156 51157 51158 51159\n",
            " 51160 51161 51162 51163 51164 51165 51166 51167 51168 51169 51170 51171\n",
            " 51172 51173 51174 51175 51176 51177 51178 51179 51180 51181 51182 51183\n",
            " 51184 51185 51186 51187 51188 51189 51190 51191 51192 51193 51194 51195\n",
            " 51196 51197 51198 51199 51200 51201 51202 51203 51204 51205 51206 51207\n",
            " 51208 51209 51210 51211 51212 51213 51214 51215 51216 51217 51218 51219\n",
            " 51220 51221 51222 51223 51224 51225 51226 51227 51228 51229 51230 51231\n",
            " 51232 51233 51234 51235 51236 51237 51238 51239 51240 51241 51242 51243\n",
            " 51244 51245 51246 51247 51248 51249 51250 51251 51252 51253 51254 51255\n",
            " 51256 51257 51258 51259 51260 51261 51262 51263 51264 51265 51266 51267\n",
            " 51268 51269 51270 51271 51272 51273 51274 51275 51276 51277 51278 51279\n",
            " 51280 51281 51282 51283 51284 51285 51286 51287 51288 51289 51290 51291\n",
            " 51292 51293 51294 51295 51296 51297 51298 51299 51300 51301 51302 51303\n",
            " 51304 51305 51306 51307 51308 51309 51310 51311 51312 51313 51314 51315\n",
            " 51316 51317 51318 51319 51320 51321 51322 51323 51324 51325 51326 51327\n",
            " 51328 51329 51330 51331 51332 51333 51334 51335 51336 51337 51338 51339\n",
            " 51340 51341 51342 51343 51344 51345 51346 51347 51348 51349 51350 51351\n",
            " 51352 51353 51354 51355 51356 51357 51358 51359 51360 51361 51362 51363\n",
            " 51364 51365 51366 51367 51368 51369 51370 51371 51372 51373 51374 51375\n",
            " 51376 51377 51378 51379 51380 51381 51382 51383 51384 51385 51386 51387\n",
            " 51388 51389 51390 51391 51392 51393 51394 51395 51396 51397 51398 51399\n",
            " 51400 51401 51402 51403]\n",
            "['N' 'N' 'N' ... 'N' 'N' 'N']\n",
            "[[-0.065 -0.06  -0.055 ...  0.035  0.045  0.05 ]\n",
            " [ 0.055  0.055  0.06  ...  0.04   0.035  0.035]\n",
            " [ 0.02   0.03   0.03  ... -0.045 -0.055 -0.04 ]\n",
            " ...\n",
            " [-0.285 -0.275 -0.28  ... -0.3   -0.305 -0.305]\n",
            " [-0.305 -0.3   -0.305 ... -0.335 -0.345 -0.345]\n",
            " [-0.345 -0.345 -0.335 ... -0.425 -0.45  -0.475]]\n",
            "112085\n",
            "112085\n",
            "[49291 49297 49498 49502 49513 50932]\n",
            "['N' 'N' 'N' ... 'N' 'N' 'N']\n",
            "[[-0.065 -0.06  -0.055 ...  0.035  0.045  0.05 ]\n",
            " [ 0.055  0.055  0.06  ...  0.04   0.035  0.035]\n",
            " [ 0.02   0.03   0.03  ... -0.045 -0.055 -0.04 ]\n",
            " ...\n",
            " [-0.285 -0.275 -0.28  ... -0.3   -0.305 -0.305]\n",
            " [-0.305 -0.3   -0.305 ... -0.335 -0.345 -0.345]\n",
            " [-0.345 -0.345 -0.335 ... -0.425 -0.45  -0.475]]\n",
            "112079\n",
            "112079\n",
            "[ 7890  7893 25209 25215 25221 25283 25286 25289 25292 25295 25318 25321\n",
            " 25324 25327 25330 25333 25336 25339 25342 25351 25354 25357 25360 25363\n",
            " 25366 25370 25373 25376 25378 25381 25384 25387 25389 25392 25395 25397\n",
            " 25400 25403 25406 25409 25412 25415 25418 25420 25422 25424 25427 25430\n",
            " 25432 25435 25437 25439 25442 25445 25448 25451 25453 25455 25457 25459\n",
            " 25462 25465 25467 25469 25472 25480 25482 25484 25486 25511 25522 25524\n",
            " 25526 25531 25538 25540 25542 25544 25546 25550 25553 25556 25560 25563\n",
            " 25568 25570 25572 25574 25632 25634 25642 25644 25646 25648 25650 25655\n",
            " 25663 25665 25667 25669 25671 25674 25685 25687 25692 25697 25699 25701\n",
            " 25703 25862 25865 25868 25871 25873 25875 25878 25881 25884 25887 25890\n",
            " 25893 25896 25899 25901 25904 25907 25910 25913 25915 25921 25923 25925\n",
            " 25927 25929 25933 59673 59675 59677 59688 59692 59782 59784 59786 59788\n",
            " 59790 59792 59794 59796 59798 59800 59806 60487 60650 60656 60664 60675\n",
            " 60684 60697 60705 60713 60721 60722 60748 60761 60765 60769 60771 60775\n",
            " 60783 60788 61098 61103 73707 73722 73839 74560 74599 74793 74838 74942\n",
            " 75179 75210 92613 92634 93086 93123 93195 93482 93668 93951 94056 94204\n",
            " 94320]\n",
            "['N' 'N' 'N' ... 'N' 'N' 'N']\n",
            "[[-0.065 -0.06  -0.055 ...  0.035  0.045  0.05 ]\n",
            " [ 0.055  0.055  0.06  ...  0.04   0.035  0.035]\n",
            " [ 0.02   0.03   0.03  ... -0.045 -0.055 -0.04 ]\n",
            " ...\n",
            " [-0.285 -0.275 -0.28  ... -0.3   -0.305 -0.305]\n",
            " [-0.305 -0.3   -0.305 ... -0.335 -0.345 -0.345]\n",
            " [-0.345 -0.345 -0.335 ... -0.425 -0.45  -0.475]]\n",
            "111886\n",
            "111886\n",
            "[  4014   4030  11766  12215  12218  12220  12257  12258  12260  12261\n",
            "  12262  12265  12266  12325  12328  12336  12348  12349  12434  12569\n",
            "  12591  12593  12594  12611  12613  12626  12957  28369  32178  32312\n",
            "  32544  32598  32644  38981  41593  43262  43272  44454  44457  44459\n",
            "  44575  45754  46738  46744  47611  47615  48089  48158  48215  48217\n",
            "  50783  50784  52424  53864  53867  54355  54692  54851  54959  55028\n",
            "  55208  55263  55265  55301  55303  55304  55312  55324  55326  55328\n",
            "  55329  55330  55331  55347  55747  55921  56270  56273  56291  57398\n",
            "  57546  67408  67410  81124  81321  81322  81328  81336  81346  81927\n",
            "  92679  92733  92744  92865  93167  93501  93519  94065  98837  98883\n",
            "  98939  99091  99362  99752  99885  99887  99902  99917  99934  99937\n",
            "  99939  99942  99958  99964 100001 100003 100018 100020 100064 100066\n",
            " 100098 100110 100130 100364 100496 100668 100963 101009 107875 107952\n",
            " 107954 108107]\n",
            "['N' 'N' 'N' ... 'N' 'N' 'N']\n",
            "[[-0.065 -0.06  -0.055 ...  0.035  0.045  0.05 ]\n",
            " [ 0.055  0.055  0.06  ...  0.04   0.035  0.035]\n",
            " [ 0.02   0.03   0.03  ... -0.045 -0.055 -0.04 ]\n",
            " ...\n",
            " [-0.285 -0.275 -0.28  ... -0.3   -0.305 -0.305]\n",
            " [-0.305 -0.3   -0.305 ... -0.335 -0.345 -0.345]\n",
            " [-0.345 -0.345 -0.335 ... -0.425 -0.45  -0.475]]\n",
            "111754\n",
            "111754\n",
            "[ 7731  7826  7830  7832  7834  7836  7838  7840  7842  7844  7846  7848\n",
            "  7850  7852  7854  7856  7858  7860  7862  7864  7866  7868  7870  7872\n",
            "  7874  7876  7878  7880  7882  7884  7886  8084  8088  8090  8092  8094\n",
            "  8096  8098  8100  8102  8104  8106  8108  8110  8112  8114  8116  8118\n",
            "  8120  8122  8124  8126  8128  8130  8132  8134  8136  8138  8140  8142\n",
            "  8144  8146  8148  8150  8152  8154  8156  8158  8160  8162  8164  8166\n",
            "  8168  8170  8172  8174  8176  8178  8180  8182  8184  8186  8188  8190\n",
            "  8192  8194  8196  8198  8200  8202  8204  8206  8208  8210  8212  8214\n",
            "  8216  8218  8220  8222  8224  8226  8228  8230  8232  8234  8236  8238\n",
            "  8240  8242  8244  8246  8248  8250  8252  8254  8256  8258  8260  8262\n",
            "  8264  8266  8268  8270  8272  8274  8276  8278  8280  8282  8284  8286\n",
            "  8288  8290  8292  8294  8296  8298  8300  8302  8304  8306  8308  8310\n",
            "  8312  8314  8316  8318  8320  8322  8324  8326  8328  8330  8332  8334\n",
            "  8336  8338  8340  8342  8344  8346  8348  8350  8352  8354  8356  8358\n",
            "  8360  8362  8524  8617  8619  8621  8623  8625  8627  8629  8631  8633\n",
            "  8635  8637  8639  8641  8643  8645  8647  8649  8651  8653  8655  8657\n",
            "  8659  8661  8663  8665  8667  8669  8671  8673  8675  8677  8679  8681\n",
            "  8683  8685  8687  8689  8691  8693  8695  8697  8699  8701  8703  8705\n",
            "  8707  8709  8711  8713  8715  8717  8719  8721  8723  8725  8727  8729\n",
            "  8731  8733  8735  8737  8739  8741  8743  8745  8747  8749  8751  8753\n",
            "  8755  8757  8759  8761  8763  8765  8767  8769  8771  8773  8775  8777\n",
            "  8779  8781  8783  8785  8787  8789  8791  8793  8795  8797  8799  8801\n",
            "  8803  8805  8807  8809  8811  8813  8815  8817  8819  8821  8823  8825\n",
            "  8827  8829  8831  8833  8835  8837  8839  8841  8843  8845  8847  8849\n",
            "  8851  8853  8855  8857  8859  8861  8863  8865  8867  8869  8871  8873\n",
            "  8875  8877  8879  8881  8883  8885  8887  8889  8891  8893  8895  8897\n",
            "  8899  8901  8903  8905  8907  8909  9080  9082  9084  9086  9088  9090\n",
            "  9092  9094  9096  9098  9100  9102  9104  9106  9108  9110  9112  9114\n",
            "  9116  9118  9120  9122  9124  9126  9128  9161  9163  9165  9167  9169\n",
            "  9171  9173  9175  9177  9179  9181  9183  9185  9187  9189  9191  9193\n",
            "  9195  9197  9199  9201  9203  9205  9207  9209  9211  9213  9215  9217\n",
            "  9219  9221  9223  9225  9227  9229  9231  9233  9235  9237  9239  9241\n",
            "  9243  9245  9247  9249  9251  9253  9255  9257  9259  9261  9263  9265\n",
            "  9267  9269  9271  9273  9275  9277  9279  9281  9283  9285  9287  9289\n",
            "  9291  9293  9295  9297  9299  9301  9303  9305  9307  9309  9311  9313\n",
            "  9315  9317  9319  9321  9526  9683  9722 13710 13723 13732 24497 24523\n",
            " 25174 25720 31099 31929 32375]\n",
            "['N' 'N' 'N' ... 'N' 'N' 'N']\n",
            "[[-0.065 -0.06  -0.055 ...  0.035  0.045  0.05 ]\n",
            " [ 0.055  0.055  0.06  ...  0.04   0.035  0.035]\n",
            " [ 0.02   0.03   0.03  ... -0.045 -0.055 -0.04 ]\n",
            " ...\n",
            " [-0.285 -0.275 -0.28  ... -0.3   -0.305 -0.305]\n",
            " [-0.305 -0.3   -0.305 ... -0.335 -0.345 -0.345]\n",
            " [-0.345 -0.345 -0.335 ... -0.425 -0.45  -0.475]]\n",
            "111317\n",
            "111317\n",
            "[  1301   1352   2809 ... 105105 105121 105206]\n",
            "['N' 'N' 'N' ... 'N' 'N' 'N']\n",
            "[[-0.065 -0.06  -0.055 ...  0.035  0.045  0.05 ]\n",
            " [ 0.055  0.055  0.06  ...  0.04   0.035  0.035]\n",
            " [ 0.02   0.03   0.03  ... -0.045 -0.055 -0.04 ]\n",
            " ...\n",
            " [-0.285 -0.275 -0.28  ... -0.3   -0.305 -0.305]\n",
            " [-0.305 -0.3   -0.305 ... -0.335 -0.345 -0.345]\n",
            " [-0.345 -0.345 -0.335 ... -0.425 -0.45  -0.475]]\n",
            "110066\n",
            "110066\n",
            "[   614    617    629    631   2073   2078   2105   2221   5844   5906\n",
            "   5920   5927   6061   6081   6110   6117   6119   6123   6183   6184\n",
            "   6196   6204   6219   6227   6230   6238   6239   6244   6262   6266\n",
            "   6540   6559   6574   6581   6587   6612   6626   6757   6761   7189\n",
            "   7191   7202   7207  11008  11013  11551  11556  11670  11695  11704\n",
            "  11710  11808  11816  12864  12890  12912  12918  13041  13058  13165\n",
            "  13176  13195  13206  13219  13229  13764  13772  14123  14176  14422\n",
            "  14456  14464  14484  14641  14653  16300  16305  16310  16313  16820\n",
            "  16827  17838  17858  17868  17896  17986  17990  18152  18157  18163\n",
            "  19382  19391  19416  19422  20121  20126  20190  20193  20266  20269\n",
            "  20306  20312  21577  21584  22732  22737  26258  26262  26338  26342\n",
            "  27872  27874  27886  27890  27898  27911  28804  28811  28983  28988\n",
            "  29042  29048  29156  29160  29262  29268  29874  29880  29928  29934\n",
            "  30030  30034  30581  30586  30624  30630  30677  30682  30838  30846\n",
            "  31006  31008  31014  31017  37516  37519  38150  38158  38172  38179\n",
            "  38579  38581  38588  38867  38870  38893  38905  39462  39478  39521\n",
            "  39527  39552  40429  40432  40434  40606  40608  40611  40612  40627\n",
            "  40642  40647  40650  40652  42242  42264  42409  42511  43159  43208\n",
            "  43263  43287  43327  43348  43638  43740  43930  43975  44531  44620\n",
            "  44634  44683  44696  44900  44909  44936  44971  45460  45535  46379\n",
            "  46383  46392  46801  46865  46870  46893  46899  46969  46990  46991\n",
            "  47003  47177  47188  47364  47371  47423  47467  48096  48120  48132\n",
            "  48147  48169  48174  48185  48278  48282  48312  48318  48353  48365\n",
            "  48411  48415  51098  51133  52399  52453  52464  52545  52564  53034\n",
            "  53038  53075  53098  53189  53204  53252  53276  53286  53315  53317\n",
            "  53318  53322  53367  53374  53393  53408  53429  53434  53443  53659\n",
            "  53720  53822  53827  53839  53846  53868  53891  53923  53949  53962\n",
            "  53985  53998  54001  54006  54179  54196  54334  54348  54390  54399\n",
            "  54561  54618  54768  54777  54789  54820  54898  54921  54930  54933\n",
            "  58749  58751  58754  58757  59828  59844  59856  59962  59990  59994\n",
            "  60021  60032  60055  60059  60097  60100  60233  60243  60370  60387\n",
            "  60394  60411  60414  60420  60431  60439  60445  60450  60461  60557\n",
            "  60641  60866  60925  60956  60978  60995  61002  61038  61229  61237\n",
            "  61364  61411  61529  61537  62131  62141  62158  62639  62652  67988\n",
            "  68019  69318  69327  69330  69341  69344  69353  69464  69469  69575\n",
            "  69578  70978  71001  71337  71355  71952  71957  72079  72088  72595\n",
            "  72597  73644  73665  73680  73689  73814  73817  74531  74533  74544\n",
            "  76781  76786  77257  77273  77308  77321  77328  77332  79272  79285\n",
            "  80364  80369  80464  80469  81028  81033  81679  84485  84508  84603\n",
            "  84635  84672  84689  84697  84700  84709  84718  86255  86260  86279\n",
            "  86285  87457  87466  88000  88005  90406  90428  90756  90759  90853\n",
            "  90861  90863  90939  90969  91157  91161  91207  91210  91397  91401\n",
            "  91460  91466  91506  91512  91530  91532  91559  91562  91564  91620\n",
            "  91621  91627  91629  91706  91726  91743  91791  91853  91867  91886\n",
            "  91888  91908  91949  92002  92355  92476  92505  92521  94000  94004\n",
            "  94715  94743  94775  94859  94871  94883  94902  95136  95140  95170\n",
            "  95175  95201  95234  95324  95371  95391  95462  95475  95734  95782\n",
            "  95883  95943  96002  96285  96445  96498  96597  96666  96716  96846\n",
            "  96849  97073  97112  97128  97145  97164  97170  97212  97217  97505\n",
            "  97515  97551  97559  97610  97612  97624  97661  97673  97695  97707\n",
            "  97807  97819  97926  97937  97962  97969  97971  98113  98160  98167\n",
            "  98193  98198  98239  98241  98251  98256  98302  98308  98311  98334\n",
            "  98343  98369  98372  98388  98399  98424  98438  98456  98457  98530\n",
            "  98542  98549  98558  98563  98586  98594  98603  98630  98631  98657\n",
            "  98658  98692  98703  98813  98819  98920  98922  98931  98935  99015\n",
            "  99024  99101  99106  99142  99154  99155  99167  99201  99226  99230\n",
            "  99250  99258  99263  99299  99303  99323  99326  99413  99418  99465\n",
            "  99472  99518  99533  99568  99574  99590  99601  99605  99607  99611\n",
            "  99624  99631  99640  99660  99664  99666  99673  99680  99718  99719\n",
            "  99722  99733  99748  99752  99756  99772  99832  99836  99870  99884\n",
            "  99895  99898 100047 100062 102917 102930 102990 103168 103202 103569\n",
            " 106057 106063 106290 106291]\n",
            "['N' 'N' 'N' ... 'N' 'N' 'N']\n",
            "[[-0.065 -0.06  -0.055 ...  0.035  0.045  0.05 ]\n",
            " [ 0.055  0.055  0.06  ...  0.04   0.035  0.035]\n",
            " [ 0.02   0.03   0.03  ... -0.045 -0.055 -0.04 ]\n",
            " ...\n",
            " [-0.285 -0.275 -0.28  ... -0.3   -0.305 -0.305]\n",
            " [-0.305 -0.3   -0.305 ... -0.335 -0.345 -0.345]\n",
            " [-0.345 -0.345 -0.335 ... -0.425 -0.45  -0.475]]\n",
            "109452\n",
            "109452\n"
          ],
          "name": "stdout"
        }
      ]
    },
    {
      "cell_type": "code",
      "metadata": {
        "id": "W-Va4msn5a_I",
        "colab_type": "code",
        "outputId": "1f77991c-bea0-4252-b2dd-2ff3e6b22364",
        "colab": {
          "base_uri": "https://localhost:8080/",
          "height": 85
        }
      },
      "source": [
        "list_q = np.where((y != 'N') & (y != 'L') & (y != 'R') & (y != 'e') & (y != 'j')[0])\n",
        "print(list_q[0])\n",
        "y[list_q] = 'Tidak Normal'\n",
        "list_q = np.where((y == 'N') & (y == 'L')& (y == 'R')& (y == 'e')& (y == 'j')[0])\n",
        "print(list_q[0])\n",
        "y[list_q] = 'Normal'\n",
        "print(y)\n",
        "print(len(y))"
      ],
      "execution_count": 0,
      "outputs": [
        {
          "output_type": "stream",
          "text": [
            "[  1297   1298   1299 ... 109198 109247 109376]\n",
            "[]\n",
            "['N' 'N' 'N' ... 'N' 'N' 'N']\n",
            "109452\n"
          ],
          "name": "stdout"
        }
      ]
    },
    {
      "cell_type": "code",
      "metadata": {
        "id": "L7ZjSNjGsLjJ",
        "colab_type": "code",
        "outputId": "44464260-158b-4896-81fc-f6697d82b9c7",
        "colab": {
          "base_uri": "https://localhost:8080/",
          "height": 68
        }
      },
      "source": [
        "from sklearn import preprocessing\n",
        "\n",
        "lab_encode = preprocessing.LabelEncoder()\n",
        "model_encode = lab_encode.fit(y)\n",
        "y_transform = model_encode.transform(y)\n",
        "\n",
        "print(len(y))\n",
        "print(len(X))\n",
        "print(y_transform)"
      ],
      "execution_count": 0,
      "outputs": [
        {
          "output_type": "stream",
          "text": [
            "109452\n",
            "109452\n",
            "[1 1 1 ... 1 1 1]\n"
          ],
          "name": "stdout"
        }
      ]
    },
    {
      "cell_type": "code",
      "metadata": {
        "id": "ifErE2nMt7L2",
        "colab_type": "code",
        "outputId": "61c2a47e-11dc-4e6b-83d8-504e376bc1e5",
        "colab": {
          "base_uri": "https://localhost:8080/",
          "height": 34
        }
      },
      "source": [
        "print(y_transform)"
      ],
      "execution_count": 0,
      "outputs": [
        {
          "output_type": "stream",
          "text": [
            "[1 1 1 ... 1 1 1]\n"
          ],
          "name": "stdout"
        }
      ]
    },
    {
      "cell_type": "code",
      "metadata": {
        "id": "jcEXuKYVK64O",
        "colab_type": "code",
        "outputId": "380d76ae-d7be-4225-a87d-0f66834b0ca4",
        "colab": {
          "base_uri": "https://localhost:8080/",
          "height": 80
        }
      },
      "source": [
        "from keras.utils import to_categorical\n",
        "y_one_hot = to_categorical(y_transform)"
      ],
      "execution_count": 0,
      "outputs": [
        {
          "output_type": "stream",
          "text": [
            "Using TensorFlow backend.\n"
          ],
          "name": "stderr"
        },
        {
          "output_type": "display_data",
          "data": {
            "text/html": [
              "<p style=\"color: red;\">\n",
              "The default version of TensorFlow in Colab will soon switch to TensorFlow 2.x.<br>\n",
              "We recommend you <a href=\"https://www.tensorflow.org/guide/migrate\" target=\"_blank\">upgrade</a> now \n",
              "or ensure your notebook will continue to use TensorFlow 1.x via the <code>%tensorflow_version 1.x</code> magic:\n",
              "<a href=\"https://colab.research.google.com/notebooks/tensorflow_version.ipynb\" target=\"_blank\">more info</a>.</p>\n"
            ],
            "text/plain": [
              "<IPython.core.display.HTML object>"
            ]
          },
          "metadata": {
            "tags": []
          }
        }
      ]
    },
    {
      "cell_type": "code",
      "metadata": {
        "id": "IML6QkySLANo",
        "colab_type": "code",
        "outputId": "288d96dc-ec78-46c6-c551-5855871df658",
        "colab": {
          "base_uri": "https://localhost:8080/",
          "height": 34
        }
      },
      "source": [
        "print(y_one_hot[0])"
      ],
      "execution_count": 0,
      "outputs": [
        {
          "output_type": "stream",
          "text": [
            "[0. 1. 0. 0. 0.]\n"
          ],
          "name": "stdout"
        }
      ]
    },
    {
      "cell_type": "code",
      "metadata": {
        "id": "1G0Xz9fzV6OA",
        "colab_type": "code",
        "colab": {}
      },
      "source": [
        "from sklearn.model_selection import train_test_split\n",
        "\n",
        "X_train, X_test, y_train, y_test = train_test_split(X, y_one_hot, test_size = 0.33, random_state = 42)"
      ],
      "execution_count": 0,
      "outputs": []
    },
    {
      "cell_type": "code",
      "metadata": {
        "id": "MsI1Ep7seFOZ",
        "colab_type": "code",
        "outputId": "d2e56338-6720-47db-fa53-3c43c29ea73f",
        "colab": {
          "base_uri": "https://localhost:8080/",
          "height": 921
        }
      },
      "source": [
        "from keras.utils import np_utils\n",
        "from keras.models import Sequential\n",
        "from keras.layers.core import Dense,Activation,Flatten,Dropout\n",
        "import numpy as np\n",
        "from keras.layers.convolutional import Convolution1D\n",
        "from keras.constraints import maxnorm\n",
        "from keras.optimizers import adam\n",
        "from keras import backend as K\n",
        "\n",
        "X_train = np.array(X_train).reshape(-1,1,252)\n",
        "\n",
        "model_cnn = Sequential()\n",
        "model_cnn.add(Convolution1D(16,5,input_shape=(1,252),activation='relu',border_mode='same' ,W_constraint=maxnorm(3)))\n",
        "model_cnn.add(Convolution1D(32,5,input_shape=(1,252),activation='relu',border_mode='same' ,W_constraint=maxnorm(3)))\n",
        "model_cnn.add(Convolution1D(64,5,input_shape=(1,252),activation='relu',border_mode='same' ,W_constraint=maxnorm(3)))\n",
        "\n",
        "model_cnn.add(Flatten())\n",
        "# model.add(Dense(2048,activation='sigmoid',W_constraint=maxnorm(3)))\n",
        "model_cnn.add(Dense(96,activation='relu',W_constraint=maxnorm(3)))\n",
        "model_cnn.add(Dropout(.4))\n",
        "model_cnn.add(Dense(len(y_train[0]),activation='softmax'))\n",
        "\n",
        "model_cnn.compile(optimizer=adam(lr=0.001),loss='categorical_crossentropy',metrics=['accuracy'])\n",
        "\n",
        "model_cnn.fit(X_train,y_train, epochs=5)"
      ],
      "execution_count": 0,
      "outputs": [
        {
          "output_type": "stream",
          "text": [
            "WARNING:tensorflow:From /usr/local/lib/python3.6/dist-packages/keras/backend/tensorflow_backend.py:66: The name tf.get_default_graph is deprecated. Please use tf.compat.v1.get_default_graph instead.\n",
            "\n",
            "WARNING:tensorflow:From /usr/local/lib/python3.6/dist-packages/keras/backend/tensorflow_backend.py:541: The name tf.placeholder is deprecated. Please use tf.compat.v1.placeholder instead.\n",
            "\n",
            "WARNING:tensorflow:From /usr/local/lib/python3.6/dist-packages/keras/backend/tensorflow_backend.py:4432: The name tf.random_uniform is deprecated. Please use tf.random.uniform instead.\n",
            "\n",
            "WARNING:tensorflow:From /usr/local/lib/python3.6/dist-packages/keras/backend/tensorflow_backend.py:148: The name tf.placeholder_with_default is deprecated. Please use tf.compat.v1.placeholder_with_default instead.\n",
            "\n",
            "WARNING:tensorflow:From /usr/local/lib/python3.6/dist-packages/keras/backend/tensorflow_backend.py:3733: calling dropout (from tensorflow.python.ops.nn_ops) with keep_prob is deprecated and will be removed in a future version.\n",
            "Instructions for updating:\n",
            "Please use `rate` instead of `keep_prob`. Rate should be set to `rate = 1 - keep_prob`.\n",
            "WARNING:tensorflow:From /usr/local/lib/python3.6/dist-packages/keras/optimizers.py:793: The name tf.train.Optimizer is deprecated. Please use tf.compat.v1.train.Optimizer instead.\n",
            "\n",
            "WARNING:tensorflow:From /usr/local/lib/python3.6/dist-packages/keras/backend/tensorflow_backend.py:3576: The name tf.log is deprecated. Please use tf.math.log instead.\n",
            "\n"
          ],
          "name": "stdout"
        },
        {
          "output_type": "stream",
          "text": [
            "/usr/local/lib/python3.6/dist-packages/ipykernel_launcher.py:13: UserWarning: Update your `Conv1D` call to the Keras 2 API: `Conv1D(16, 5, input_shape=(1, 252), activation=\"relu\", padding=\"same\", kernel_constraint=<keras.con...)`\n",
            "  del sys.path[0]\n",
            "/usr/local/lib/python3.6/dist-packages/ipykernel_launcher.py:14: UserWarning: Update your `Conv1D` call to the Keras 2 API: `Conv1D(32, 5, input_shape=(1, 252), activation=\"relu\", padding=\"same\", kernel_constraint=<keras.con...)`\n",
            "  \n",
            "/usr/local/lib/python3.6/dist-packages/ipykernel_launcher.py:15: UserWarning: Update your `Conv1D` call to the Keras 2 API: `Conv1D(64, 5, input_shape=(1, 252), activation=\"relu\", padding=\"same\", kernel_constraint=<keras.con...)`\n",
            "  from ipykernel import kernelapp as app\n",
            "/usr/local/lib/python3.6/dist-packages/ipykernel_launcher.py:19: UserWarning: Update your `Dense` call to the Keras 2 API: `Dense(96, activation=\"relu\", kernel_constraint=<keras.con...)`\n"
          ],
          "name": "stderr"
        },
        {
          "output_type": "stream",
          "text": [
            "WARNING:tensorflow:From /usr/local/lib/python3.6/dist-packages/tensorflow_core/python/ops/math_grad.py:1424: where (from tensorflow.python.ops.array_ops) is deprecated and will be removed in a future version.\n",
            "Instructions for updating:\n",
            "Use tf.where in 2.0, which has the same broadcast rule as np.where\n",
            "WARNING:tensorflow:From /usr/local/lib/python3.6/dist-packages/keras/backend/tensorflow_backend.py:1033: The name tf.assign_add is deprecated. Please use tf.compat.v1.assign_add instead.\n",
            "\n",
            "WARNING:tensorflow:From /usr/local/lib/python3.6/dist-packages/keras/backend/tensorflow_backend.py:1020: The name tf.assign is deprecated. Please use tf.compat.v1.assign instead.\n",
            "\n",
            "WARNING:tensorflow:From /usr/local/lib/python3.6/dist-packages/keras/backend/tensorflow_backend.py:3005: The name tf.Session is deprecated. Please use tf.compat.v1.Session instead.\n",
            "\n",
            "Epoch 1/5\n",
            "WARNING:tensorflow:From /usr/local/lib/python3.6/dist-packages/keras/backend/tensorflow_backend.py:190: The name tf.get_default_session is deprecated. Please use tf.compat.v1.get_default_session instead.\n",
            "\n",
            "WARNING:tensorflow:From /usr/local/lib/python3.6/dist-packages/keras/backend/tensorflow_backend.py:197: The name tf.ConfigProto is deprecated. Please use tf.compat.v1.ConfigProto instead.\n",
            "\n",
            "WARNING:tensorflow:From /usr/local/lib/python3.6/dist-packages/keras/backend/tensorflow_backend.py:207: The name tf.global_variables is deprecated. Please use tf.compat.v1.global_variables instead.\n",
            "\n",
            "WARNING:tensorflow:From /usr/local/lib/python3.6/dist-packages/keras/backend/tensorflow_backend.py:216: The name tf.is_variable_initialized is deprecated. Please use tf.compat.v1.is_variable_initialized instead.\n",
            "\n",
            "WARNING:tensorflow:From /usr/local/lib/python3.6/dist-packages/keras/backend/tensorflow_backend.py:223: The name tf.variables_initializer is deprecated. Please use tf.compat.v1.variables_initializer instead.\n",
            "\n",
            "73332/73332 [==============================] - 11s 149us/step - loss: 0.2809 - acc: 0.9139\n",
            "Epoch 2/5\n",
            "73332/73332 [==============================] - 10s 133us/step - loss: 0.1386 - acc: 0.9622\n",
            "Epoch 3/5\n",
            "73332/73332 [==============================] - 9s 129us/step - loss: 0.1139 - acc: 0.9679\n",
            "Epoch 4/5\n",
            "73332/73332 [==============================] - 9s 128us/step - loss: 0.0978 - acc: 0.9727\n",
            "Epoch 5/5\n",
            "73332/73332 [==============================] - 9s 127us/step - loss: 0.0888 - acc: 0.9751\n"
          ],
          "name": "stdout"
        },
        {
          "output_type": "execute_result",
          "data": {
            "text/plain": [
              "<keras.callbacks.History at 0x7f3b096b0b00>"
            ]
          },
          "metadata": {
            "tags": []
          },
          "execution_count": 47
        }
      ]
    },
    {
      "cell_type": "code",
      "metadata": {
        "id": "DLg3_vjIG9cM",
        "colab_type": "code",
        "outputId": "a31a19c6-0799-4281-cc7b-39fc37958c10",
        "colab": {
          "base_uri": "https://localhost:8080/",
          "height": 381
        }
      },
      "source": [
        "model_cnn.summary()"
      ],
      "execution_count": 0,
      "outputs": [
        {
          "output_type": "stream",
          "text": [
            "_________________________________________________________________\n",
            "Layer (type)                 Output Shape              Param #   \n",
            "=================================================================\n",
            "conv1d_1 (Conv1D)            (None, 1, 16)             20176     \n",
            "_________________________________________________________________\n",
            "conv1d_2 (Conv1D)            (None, 1, 32)             2592      \n",
            "_________________________________________________________________\n",
            "conv1d_3 (Conv1D)            (None, 1, 64)             10304     \n",
            "_________________________________________________________________\n",
            "flatten_1 (Flatten)          (None, 64)                0         \n",
            "_________________________________________________________________\n",
            "dense_1 (Dense)              (None, 96)                6240      \n",
            "_________________________________________________________________\n",
            "dropout_1 (Dropout)          (None, 96)                0         \n",
            "_________________________________________________________________\n",
            "dense_2 (Dense)              (None, 2)                 194       \n",
            "=================================================================\n",
            "Total params: 39,506\n",
            "Trainable params: 39,506\n",
            "Non-trainable params: 0\n",
            "_________________________________________________________________\n"
          ],
          "name": "stdout"
        }
      ]
    },
    {
      "cell_type": "code",
      "metadata": {
        "id": "HmaKdZF0eUd5",
        "colab_type": "code",
        "outputId": "56bdd4a1-73b9-4957-aff1-b4d18008e7d6",
        "colab": {
          "base_uri": "https://localhost:8080/",
          "height": 34
        }
      },
      "source": [
        "X_test = np.array(X_test).reshape(-1, 1, 252)\n",
        "score_testing = model_cnn.evaluate(X_test, y_test)"
      ],
      "execution_count": 0,
      "outputs": [
        {
          "output_type": "stream",
          "text": [
            "36120/36120 [==============================] - 1s 35us/step\n"
          ],
          "name": "stdout"
        }
      ]
    },
    {
      "cell_type": "code",
      "metadata": {
        "id": "W9damo-VFXMB",
        "colab_type": "code",
        "outputId": "c76e83ce-3e80-43f6-8d6d-ccd2d657445d",
        "colab": {
          "base_uri": "https://localhost:8080/",
          "height": 34
        }
      },
      "source": [
        "y_pred = model_cnn.predict_classes(X_test)\n",
        "print(y_pred)"
      ],
      "execution_count": 0,
      "outputs": [
        {
          "output_type": "stream",
          "text": [
            "[0 0 1 ... 0 1 0]\n"
          ],
          "name": "stdout"
        }
      ]
    },
    {
      "cell_type": "code",
      "metadata": {
        "id": "mWivKbBtiHVr",
        "colab_type": "code",
        "outputId": "78292dc5-6bae-466f-8140-5ccbdd63ceaa",
        "colab": {
          "base_uri": "https://localhost:8080/",
          "height": 34
        }
      },
      "source": [
        "type(y_test)"
      ],
      "execution_count": 0,
      "outputs": [
        {
          "output_type": "execute_result",
          "data": {
            "text/plain": [
              "numpy.ndarray"
            ]
          },
          "metadata": {
            "tags": []
          },
          "execution_count": 31
        }
      ]
    },
    {
      "cell_type": "code",
      "metadata": {
        "id": "Ygo2KzYIGfQ5",
        "colab_type": "code",
        "outputId": "a1e33d61-c9fa-4771-ec3e-c0c20e9d2118",
        "colab": {
          "base_uri": "https://localhost:8080/",
          "height": 52
        }
      },
      "source": [
        "from sklearn.metrics import confusion_matrix\n",
        "cm = confusion_matrix(y_test.argmax(axis=1), y_pred)\n",
        "print(cm)"
      ],
      "execution_count": 0,
      "outputs": [
        {
          "output_type": "stream",
          "text": [
            "[[24638   122]\n",
            " [  550 10810]]\n"
          ],
          "name": "stdout"
        }
      ]
    },
    {
      "cell_type": "code",
      "metadata": {
        "id": "nLn5n2RGggUV",
        "colab_type": "code",
        "outputId": "adac920c-205e-4c79-e034-26ce4f0b74c4",
        "colab": {
          "base_uri": "https://localhost:8080/",
          "height": 34
        }
      },
      "source": [
        "from sklearn.metrics import accuracy_score\n",
        "acc = accuracy_score(y_test.argmax(axis=1), y_pred)\n",
        "print(acc)"
      ],
      "execution_count": 0,
      "outputs": [
        {
          "output_type": "stream",
          "text": [
            "0.9813953488372092\n"
          ],
          "name": "stdout"
        }
      ]
    },
    {
      "cell_type": "code",
      "metadata": {
        "id": "xoSGerfL67GX",
        "colab_type": "code",
        "outputId": "c1aa732a-42bf-4a4a-ff56-d29fd06d12b9",
        "colab": {
          "base_uri": "https://localhost:8080/",
          "height": 34
        }
      },
      "source": [
        "from sklearn.metrics import precision_score\n",
        "pcc = precision_score(y_test.argmax(axis=1), y_pred)\n",
        "print(pcc)"
      ],
      "execution_count": 0,
      "outputs": [
        {
          "output_type": "stream",
          "text": [
            "0.9888401024515184\n"
          ],
          "name": "stdout"
        }
      ]
    },
    {
      "cell_type": "code",
      "metadata": {
        "id": "w7KB57LU2TGu",
        "colab_type": "code",
        "outputId": "af173249-bc49-430a-f043-e8184acb3243",
        "colab": {
          "base_uri": "https://localhost:8080/",
          "height": 54
        }
      },
      "source": [
        "from sklearn.metrics import classification_report\n",
        "classification_report(y_test.argmax(axis=1), y_pred)"
      ],
      "execution_count": 0,
      "outputs": [
        {
          "output_type": "execute_result",
          "data": {
            "text/plain": [
              "'              precision    recall  f1-score   support\\n\\n           0       0.98      1.00      0.99     24760\\n           1       0.99      0.95      0.97     11360\\n\\n   micro avg       0.98      0.98      0.98     36120\\n   macro avg       0.98      0.97      0.98     36120\\nweighted avg       0.98      0.98      0.98     36120\\n'"
            ]
          },
          "metadata": {
            "tags": []
          },
          "execution_count": 35
        }
      ]
    },
    {
      "cell_type": "code",
      "metadata": {
        "id": "i6NfK5_4-7dc",
        "colab_type": "code",
        "outputId": "1a0a0df6-328e-46f3-d897-5ad5f97115b4",
        "colab": {
          "base_uri": "https://localhost:8080/",
          "height": 34
        }
      },
      "source": [
        "from sklearn.utils.multiclass import unique_labels\n",
        "names = unique_labels(y)\n",
        "print(names)"
      ],
      "execution_count": 0,
      "outputs": [
        {
          "output_type": "stream",
          "text": [
            "['N' 'T']\n"
          ],
          "name": "stdout"
        }
      ]
    },
    {
      "cell_type": "code",
      "metadata": {
        "id": "tcqIthy54nVG",
        "colab_type": "code",
        "outputId": "54b2bbd3-001d-4af4-f83d-3784eae8d4c0",
        "colab": {
          "base_uri": "https://localhost:8080/",
          "height": 681
        }
      },
      "source": [
        "def plot_confusion_matrix(y_true, y_pred, classes,\n",
        "                          normalize=False,\n",
        "                          title=None,\n",
        "                          cmap=plt.cm.Blues):\n",
        "    \"\"\"\n",
        "    This function prints and plots the confusion matrix.\n",
        "    Normalization can be applied by setting `normalize=True`.\n",
        "    \"\"\"\n",
        "    if not title:\n",
        "        if normalize:\n",
        "            title = 'Normalized confusion matrix'\n",
        "        else:\n",
        "            title = 'Confusion matrix, without normalization'\n",
        "\n",
        "    # Compute confusion matrix\n",
        "    cm = confusion_matrix(y_true, y_pred)\n",
        "    # Only use the labels that appear in the data\n",
        "    classes = classes[unique_labels(y_true, y_pred)]\n",
        "    if normalize:\n",
        "        cm = cm.astype('float') / cm.sum(axis=1)[:, np.newaxis]\n",
        "        print(\"Normalized confusion matrix\")\n",
        "    else:\n",
        "        print('Confusion matrix, without normalization')\n",
        "\n",
        "    print(cm)\n",
        "\n",
        "    fig, ax = plt.subplots()\n",
        "    im = ax.imshow(cm, interpolation='nearest', cmap=cmap)\n",
        "    ax.figure.colorbar(im, ax=ax)\n",
        "    # We want to show all ticks...\n",
        "    ax.set(xticks=np.arange(cm.shape[1]),\n",
        "           yticks=np.arange(cm.shape[0]),\n",
        "           # ... and label them with the respective list entries\n",
        "           xticklabels=classes, yticklabels=classes,\n",
        "           title=title,\n",
        "           ylabel='True label',\n",
        "           xlabel='Predicted label')\n",
        "\n",
        "    # Rotate the tick labels and set their alignment.\n",
        "    plt.setp(ax.get_xticklabels(), rotation=45, ha=\"right\",\n",
        "             rotation_mode=\"anchor\")\n",
        "\n",
        "    # Loop over data dimensions and create text annotations.\n",
        "    fmt = '.2f' if normalize else 'd'\n",
        "    thresh = cm.max() / 2.\n",
        "    for i in range(cm.shape[0]):\n",
        "        for j in range(cm.shape[1]):\n",
        "            ax.text(j, i, format(cm[i, j], fmt),\n",
        "                    ha=\"center\", va=\"center\",\n",
        "                    color=\"white\" if cm[i, j] > thresh else \"black\")\n",
        "    fig.tight_layout()\n",
        "    return ax\n",
        "\n",
        "\n",
        "np.set_printoptions(precision=2)\n",
        "\n",
        "# Plot non-normalized confusion matrix\n",
        "plot_confusion_matrix(y_test.argmax(axis=1), y_pred, classes=names,\n",
        "                      title='Confusion matrix, without normalization')\n",
        "\n",
        "# Plot normalized confusion matrix\n",
        "plot_confusion_matrix(y_test.argmax(axis=1), y_pred, classes=names, normalize=True,\n",
        "                      title='Normalized confusion matrix')\n",
        "\n",
        "plt.show()"
      ],
      "execution_count": 0,
      "outputs": [
        {
          "output_type": "stream",
          "text": [
            "Confusion matrix, without normalization\n",
            "[[24638   122]\n",
            " [  550 10810]]\n",
            "Normalized confusion matrix\n",
            "[[1.   0.  ]\n",
            " [0.05 0.95]]\n"
          ],
          "name": "stdout"
        },
        {
          "output_type": "display_data",
          "data": {
            "image/png": "[encoded data removed]",
            "text/plain": [
              "<Figure size 432x288 with 2 Axes>"
            ]
          },
          "metadata": {
            "tags": []
          }
        },
        {
          "output_type": "display_data",
          "data": {
            "image/png": "[encoded data removed]",
            "text/plain": [
              "<Figure size 432x288 with 2 Axes>"
            ]
          },
          "metadata": {
            "tags": []
          }
        }
      ]
    },
    {
      "cell_type": "code",
      "metadata": {
        "id": "5QCHtclx_NAa",
        "colab_type": "code",
        "colab": {}
      },
      "source": [
        ""
      ],
      "execution_count": 0,
      "outputs": []
    }
  ]
}